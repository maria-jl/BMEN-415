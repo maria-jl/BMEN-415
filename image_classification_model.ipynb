{
 "cells": [
  {
   "cell_type": "code",
   "execution_count": 3,
   "metadata": {},
   "outputs": [],
   "source": [
    "from keras.preprocessing.image import ImageDataGenerator\n",
    "from keras.models import Sequential\n",
    "from keras.layers import Conv2D, MaxPooling2D\n",
    "from keras.layers import Activation, Dropout, Flatten, Dense\n",
    "from keras import backend as K\n",
    " \n",
    "img_width, img_height = 128, 128\n",
    "\n",
    "input_shape = (img_width, img_height, 3) ## we checked that the RGB channel comes last in the data format of these images\n",
    "\n",
    "epochs = 10\n",
    "batch_size = 16"
   ]
  },
  {
   "cell_type": "code",
   "execution_count": 5,
   "metadata": {},
   "outputs": [
    {
     "data": {
      "text/plain": [
       "(128, 128, 3)"
      ]
     },
     "execution_count": 5,
     "metadata": {},
     "output_type": "execute_result"
    }
   ],
   "source": [
    "input_shape"
   ]
  },
  {
   "cell_type": "code",
   "execution_count": 7,
   "metadata": {},
   "outputs": [],
   "source": [
    "model = Sequential()\n",
    "model.add(Conv2D(32, (2, 2), input_shape = input_shape))\n",
    "model.add(Activation('relu'))\n",
    "model.add(MaxPooling2D(pool_size=(2, 2)))\n",
    " \n",
    "model.add(Conv2D(32, (2, 2)))\n",
    "model.add(Activation('relu'))\n",
    "model.add(MaxPooling2D(pool_size=(2, 2)))\n",
    " \n",
    "model.add(Conv2D(64, (2, 2)))\n",
    "model.add(Activation('relu'))\n",
    "model.add(MaxPooling2D(pool_size=(2, 2)))\n",
    " \n",
    "model.add(Flatten())\n",
    "model.add(Dense(64))\n",
    "model.add(Activation('relu'))\n",
    "model.add(Dropout(0.5))\n",
    "model.add(Dense(1))\n",
    "model.add(Activation('sigmoid'))\n",
    "\n",
    "model.compile(loss = 'binary_crossentropy',\n",
    "              optimizer = 'rmsprop',\n",
    "              metrics = ['accuracy'])"
   ]
  },
  {
   "cell_type": "code",
   "execution_count": 9,
   "metadata": {},
   "outputs": [
    {
     "name": "stdout",
     "output_type": "stream",
     "text": [
      "Found 4479 images belonging to 4 classes.\n",
      "Found 642 images belonging to 4 classes.\n",
      "Epoch 1/10\n",
      "279/279 [==============================] - 72s 258ms/step - loss: 0.5667 - accuracy: 0.7500 - val_loss: 0.5627 - val_accuracy: 0.7500\n",
      "Epoch 2/10\n",
      "279/279 [==============================] - 76s 271ms/step - loss: 0.5653 - accuracy: 0.7500 - val_loss: 0.5633 - val_accuracy: 0.7500\n",
      "Epoch 3/10\n",
      "279/279 [==============================] - 74s 264ms/step - loss: 0.5642 - accuracy: 0.7500 - val_loss: 0.5624 - val_accuracy: 0.7500\n",
      "Epoch 4/10\n",
      "279/279 [==============================] - 69s 248ms/step - loss: 0.5636 - accuracy: 0.7500 - val_loss: 0.5625 - val_accuracy: 0.7500\n",
      "Epoch 5/10\n",
      "279/279 [==============================] - 70s 253ms/step - loss: 0.5630 - accuracy: 0.7500 - val_loss: 0.5623 - val_accuracy: 0.7500\n",
      "Epoch 6/10\n",
      "279/279 [==============================] - 74s 265ms/step - loss: 0.5626 - accuracy: 0.7500 - val_loss: 0.5623 - val_accuracy: 0.7500\n",
      "Epoch 7/10\n",
      "279/279 [==============================] - 61s 216ms/step - loss: 0.5624 - accuracy: 0.7500 - val_loss: 0.5624 - val_accuracy: 0.7500\n",
      "Epoch 8/10\n",
      "279/279 [==============================] - 68s 245ms/step - loss: 0.5623 - accuracy: 0.7500 - val_loss: 0.5623 - val_accuracy: 0.7500\n",
      "Epoch 9/10\n",
      "279/279 [==============================] - 79s 284ms/step - loss: 0.5623 - accuracy: 0.7500 - val_loss: 0.5623 - val_accuracy: 0.7500\n",
      "Epoch 10/10\n",
      "279/279 [==============================] - 70s 250ms/step - loss: 0.5623 - accuracy: 0.7500 - val_loss: 0.5623 - val_accuracy: 0.7500\n"
     ]
    },
    {
     "data": {
      "text/plain": [
       "<keras.callbacks.History at 0x1ff238c8d68>"
      ]
     },
     "execution_count": 9,
     "metadata": {},
     "output_type": "execute_result"
    }
   ],
   "source": [
    "datagen = ImageDataGenerator(rescale = 1/255)\n",
    " \n",
    "train_data = datagen.flow_from_directory(\n",
    "    r'C:\\Users\\lucia\\OneDrive - University of Calgary\\University\\Year 3\\Semester 2\\Bmen 415\\Coursework\\Course Project\\_FINAL DATASETS\\alzheimer mri preprocessed dataset\\train_test_val split\\train',\n",
    "    target_size = (img_width, img_height),\n",
    "    batch_size = batch_size,\n",
    "    class_mode = 'categorical')\n",
    " \n",
    "validation_data = datagen.flow_from_directory(\n",
    "    r'C:\\Users\\lucia\\OneDrive - University of Calgary\\University\\Year 3\\Semester 2\\Bmen 415\\Coursework\\Course Project\\_FINAL DATASETS\\alzheimer mri preprocessed dataset\\train_test_val split\\val',\n",
    "    target_size = (img_width, img_height),\n",
    "    batch_size = batch_size,\n",
    "    class_mode = 'categorical')\n",
    " \n",
    "model.fit(\n",
    "    train_data,\n",
    "    steps_per_epoch = 4479 // batch_size,\n",
    "    epochs=epochs,\n",
    "    validation_data = validation_data,\n",
    "    validation_steps = 642 // batch_size)"
   ]
  },
  {
   "cell_type": "code",
   "execution_count": null,
   "metadata": {},
   "outputs": [],
   "source": [
    "model.save_weights('CNN_model.h5')"
   ]
  },
  {
   "cell_type": "code",
   "execution_count": null,
   "metadata": {},
   "outputs": [],
   "source": [
    "from keras.models import load_model\n",
    "from keras.preprocessing.image import load_img\n",
    "from keras.preprocessing.image import img_to_array\n",
    "from keras.applications.vgg16 import preprocess_input\n",
    "from keras.applications.vgg16 import decode_predictions\n",
    "from keras.applications.vgg16 import VGG16\n",
    "import numpy as np\n",
    " \n",
    "from keras.models import load_model\n",
    " \n",
    "model = load_model('CNN_model.h5')\n",
    " \n",
    "image = load_img(r'', target_size = (128, 128))\n",
    "img = np.array(image) / 255.0\n",
    "img = img.reshape(1, 128, 128, 3)\n",
    "\n",
    "prediction = model.predict(img)\n",
    "print(prediction)\n",
    "print(\"Predicted Class: \", prediction[0][0])"
   ]
  }
 ],
 "metadata": {
  "kernelspec": {
   "display_name": "Python 3",
   "language": "python",
   "name": "python3"
  },
  "language_info": {
   "codemirror_mode": {
    "name": "ipython",
    "version": 3
   },
   "file_extension": ".py",
   "mimetype": "text/x-python",
   "name": "python",
   "nbconvert_exporter": "python",
   "pygments_lexer": "ipython3",
   "version": "3.6.8"
  },
  "orig_nbformat": 4
 },
 "nbformat": 4,
 "nbformat_minor": 2
}
