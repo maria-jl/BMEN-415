{
 "cells": [
  {
   "cell_type": "code",
   "execution_count": 7,
   "metadata": {},
   "outputs": [],
   "source": [
    "\n",
    "from sklearn.model_selection import train_test_split\n",
    "from sklearn.naive_bayes import GaussianNB\n",
    "from sklearn.linear_model import LogisticRegression\n",
    "from sklearn.ensemble import RandomForestClassifier\n",
    "from sklearn.preprocessing import PolynomialFeatures #polynomial\n",
    "from sklearn.pipeline import make_pipeline #polynomial \n",
    "import numpy as np  # Importing NumPy library\n",
    "import pandas as pd  # Importing Pandas library\n",
    "import matplotlib.pyplot as plt  # Importing Matplotlib library's \"pyplot\" module\n",
    "import seaborn as sns  # Imorting Seaborn library\n",
    "from sklearn.metrics import accuracy_score, confusion_matrix"
   ]
  },
  {
   "cell_type": "code",
   "execution_count": 8,
   "metadata": {},
   "outputs": [
    {
     "name": "stdout",
     "output_type": "stream",
     "text": [
      "(426, 30)\n",
      "(426, 1)\n"
     ]
    }
   ],
   "source": [
    "#load and preprocess the data\n",
    "#need to label my X_test, X_train, Y_test, Y_train\n",
    "y_train = pd.read_csv(r'C:\\Users\\14037\\Downloads\\Biomed 415\\Kaylas_Models\\BMEN-415\\Data\\_split datasets\\classification_ytrain.csv')\n",
    "X_train = pd.read_csv(r'C:\\Users\\14037\\Downloads\\Biomed 415\\Kaylas_Models\\BMEN-415\\Data\\_split datasets\\classification_Xtrain.csv')\n",
    "y_test = pd.read_csv(r'C:\\Users\\14037\\Downloads\\Biomed 415\\Kaylas_Models\\BMEN-415\\Data\\_split datasets\\classification_ytest.csv')\n",
    "X_test = pd.read_csv(r'C:\\Users\\14037\\Downloads\\Biomed 415\\Kaylas_Models\\BMEN-415\\Data\\_split datasets\\classification_Xtest.csv')\n",
    "\n",
    "print(X_train.shape)\n",
    "print(y_train.shape)\n"
   ]
  },
  {
   "cell_type": "code",
   "execution_count": 9,
   "metadata": {},
   "outputs": [
    {
     "name": "stderr",
     "output_type": "stream",
     "text": [
      "c:\\Users\\14037\\anaconda3\\lib\\site-packages\\sklearn\\utils\\validation.py:73: DataConversionWarning: A column-vector y was passed when a 1d array was expected. Please change the shape of y to (n_samples, ), for example using ravel().\n",
      "  return f(**kwargs)\n"
     ]
    },
    {
     "data": {
      "text/plain": [
       "GaussianNB()"
      ]
     },
     "execution_count": 9,
     "metadata": {},
     "output_type": "execute_result"
    }
   ],
   "source": [
    "#Train the Naive bayes model\n",
    "nb = GaussianNB()\n",
    "nb.fit(X_train, y_train)\n"
   ]
  },
  {
   "cell_type": "code",
   "execution_count": 10,
   "metadata": {},
   "outputs": [
    {
     "name": "stdout",
     "output_type": "stream",
     "text": [
      "Training accuracy: 0.9483568075117371\n",
      "Testing accuracy: 0.9440559440559441\n"
     ]
    },
    {
     "data": {
      "text/plain": [
       "Text(0.5, 1.0, 'Navie Bayes Model')"
      ]
     },
     "execution_count": 10,
     "metadata": {},
     "output_type": "execute_result"
    },
    {
     "data": {
      "image/png": "[encoded data removed]",
      "text/plain": [
       "<Figure size 432x288 with 1 Axes>"
      ]
     },
     "metadata": {
      "needs_background": "light"
     },
     "output_type": "display_data"
    }
   ],
   "source": [
    "#Make predictions and evaluate the model\n",
    "\n",
    "y_train_pred1 = nb.predict(X_train)\n",
    "y_test_pred1 = nb.predict(X_test)\n",
    "\n",
    "print('Training accuracy:', accuracy_score(y_train, y_train_pred1))\n",
    "print('Testing accuracy:', accuracy_score(y_test, y_test_pred1))\n",
    "\n",
    "confusion = confusion_matrix(y_test, y_test_pred1)\n",
    "sns.heatmap(confusion, square = True, annot = True, cbar = False, cmap = 'icefire', \n",
    "            xticklabels = ['benign', 'malignant'], yticklabels = ['benign', 'malignant'])\n",
    "\n",
    "plt.xlabel('predicted value')\n",
    "plt.ylabel('true value')\n",
    "plt.title('Navie Bayes Model')"
   ]
  },
  {
   "cell_type": "code",
   "execution_count": 11,
   "metadata": {},
   "outputs": [
    {
     "name": "stderr",
     "output_type": "stream",
     "text": [
      "c:\\Users\\14037\\anaconda3\\lib\\site-packages\\sklearn\\utils\\validation.py:73: DataConversionWarning: A column-vector y was passed when a 1d array was expected. Please change the shape of y to (n_samples, ), for example using ravel().\n",
      "  return f(**kwargs)\n",
      "c:\\Users\\14037\\anaconda3\\lib\\site-packages\\sklearn\\linear_model\\_logistic.py:762: ConvergenceWarning: lbfgs failed to converge (status=1):\n",
      "STOP: TOTAL NO. of ITERATIONS REACHED LIMIT.\n",
      "\n",
      "Increase the number of iterations (max_iter) or scale the data as shown in:\n",
      "    https://scikit-learn.org/stable/modules/preprocessing.html\n",
      "Please also refer to the documentation for alternative solver options:\n",
      "    https://scikit-learn.org/stable/modules/linear_model.html#logistic-regression\n",
      "  n_iter_i = _check_optimize_result(\n"
     ]
    },
    {
     "data": {
      "text/plain": [
       "LogisticRegression()"
      ]
     },
     "execution_count": 11,
     "metadata": {},
     "output_type": "execute_result"
    }
   ],
   "source": [
    "#Train the Logistic Regression Model\n",
    "\n",
    "lr = LogisticRegression()\n",
    "lr.fit(X_train,y_train)\n"
   ]
  },
  {
   "cell_type": "code",
   "execution_count": 12,
   "metadata": {},
   "outputs": [
    {
     "name": "stdout",
     "output_type": "stream",
     "text": [
      "Training accuracy: 0.9436619718309859\n",
      "Testing accuracy: 0.9370629370629371\n"
     ]
    },
    {
     "data": {
      "text/plain": [
       "Text(0.5, 1.0, 'Logistic Regression Model')"
      ]
     },
     "execution_count": 12,
     "metadata": {},
     "output_type": "execute_result"
    },
    {
     "data": {
      "image/png": "[encoded data removed]",
      "text/plain": [
       "<Figure size 432x288 with 1 Axes>"
      ]
     },
     "metadata": {
      "needs_background": "light"
     },
     "output_type": "display_data"
    }
   ],
   "source": [
    "#make predictions using LR from the test data\n",
    "\n",
    "y_train_pred2 = lr.predict(X_train)\n",
    "y_test_pred2 = lr.predict(X_test)\n",
    "\n",
    "print('Training accuracy:', accuracy_score(y_train, y_train_pred2))\n",
    "print('Testing accuracy:', accuracy_score(y_test, y_test_pred2))\n",
    "\n",
    "confusion = confusion_matrix(y_test, y_test_pred2)\n",
    "sns.heatmap(confusion, square = True, annot = True, cbar = False, cmap = 'icefire', \n",
    "            xticklabels = ['benign', 'malignant'], yticklabels = ['benign', 'malignant'])\n",
    "\n",
    "plt.xlabel('predicted value')\n",
    "plt.ylabel('true value')\n",
    "plt.title('Logistic Regression Model')"
   ]
  },
  {
   "cell_type": "code",
   "execution_count": 13,
   "metadata": {},
   "outputs": [
    {
     "name": "stderr",
     "output_type": "stream",
     "text": [
      "<ipython-input-13-f76c7fd113cd>:3: DataConversionWarning: A column-vector y was passed when a 1d array was expected. Please change the shape of y to (n_samples,), for example using ravel().\n",
      "  rf.fit(X_train,y_train) #test, test??\n"
     ]
    },
    {
     "data": {
      "text/plain": [
       "RandomForestClassifier()"
      ]
     },
     "execution_count": 13,
     "metadata": {},
     "output_type": "execute_result"
    }
   ],
   "source": [
    "#Train the Random Forest Model\n",
    "rf = RandomForestClassifier() #maybe increase the n_estimator to have a higher accuracy.\n",
    "rf.fit(X_train,y_train) #test, test??"
   ]
  },
  {
   "cell_type": "code",
   "execution_count": 14,
   "metadata": {},
   "outputs": [
    {
     "name": "stdout",
     "output_type": "stream",
     "text": [
      "Training accuracy: 1.0\n",
      "Testing accuracy: 0.972027972027972\n"
     ]
    },
    {
     "data": {
      "text/plain": [
       "Text(0.5, 1.0, 'Random Forest Model')"
      ]
     },
     "execution_count": 14,
     "metadata": {},
     "output_type": "execute_result"
    },
    {
     "data": {
      "image/png": "[encoded data removed]",
      "text/plain": [
       "<Figure size 432x288 with 1 Axes>"
      ]
     },
     "metadata": {
      "needs_background": "light"
     },
     "output_type": "display_data"
    }
   ],
   "source": [
    "#make predictions using the rf model and test data\n",
    "y_train_pred3 = rf.predict(X_train)\n",
    "y_test_pred3 = rf.predict(X_test)\n",
    "\n",
    "print('Training accuracy:', accuracy_score(y_train, y_train_pred3))\n",
    "print('Testing accuracy:', accuracy_score(y_test, y_test_pred3))\n",
    "\n",
    "confusion = confusion_matrix(y_test, y_test_pred3)\n",
    "sns.heatmap(confusion, square = True, annot = True, cbar = False, cmap = 'icefire', \n",
    "            xticklabels = ['benign', 'malignant'], yticklabels = ['benign', 'malignant'])\n",
    "\n",
    "plt.xlabel('predicted value')\n",
    "plt.ylabel('true value')\n",
    "plt.title('Random Forest Model')"
   ]
  },
  {
   "cell_type": "code",
   "execution_count": 15,
   "metadata": {},
   "outputs": [
    {
     "name": "stderr",
     "output_type": "stream",
     "text": [
      "c:\\Users\\14037\\anaconda3\\lib\\site-packages\\sklearn\\utils\\validation.py:73: DataConversionWarning: A column-vector y was passed when a 1d array was expected. Please change the shape of y to (n_samples, ), for example using ravel().\n",
      "  return f(**kwargs)\n"
     ]
    },
    {
     "name": "stdout",
     "output_type": "stream",
     "text": [
      "Training accuracy: 0.960093896713615\n",
      "Testing accuracy: 0.965034965034965\n"
     ]
    },
    {
     "name": "stderr",
     "output_type": "stream",
     "text": [
      "c:\\Users\\14037\\anaconda3\\lib\\site-packages\\sklearn\\linear_model\\_logistic.py:762: ConvergenceWarning: lbfgs failed to converge (status=1):\n",
      "STOP: TOTAL NO. of ITERATIONS REACHED LIMIT.\n",
      "\n",
      "Increase the number of iterations (max_iter) or scale the data as shown in:\n",
      "    https://scikit-learn.org/stable/modules/preprocessing.html\n",
      "Please also refer to the documentation for alternative solver options:\n",
      "    https://scikit-learn.org/stable/modules/linear_model.html#logistic-regression\n",
      "  n_iter_i = _check_optimize_result(\n"
     ]
    },
    {
     "data": {
      "text/plain": [
       "Text(91.68, 0.5, 'true value')"
      ]
     },
     "execution_count": 15,
     "metadata": {},
     "output_type": "execute_result"
    },
    {
     "data": {
      "image/png": "[encoded data removed]",
      "text/plain": [
       "<Figure size 432x288 with 1 Axes>"
      ]
     },
     "metadata": {
      "needs_background": "light"
     },
     "output_type": "display_data"
    }
   ],
   "source": [
    "# Define the logistic regression model with polynomial terms\n",
    "#training accuracy is slighly higher\n",
    "logreg_poly = make_pipeline(\n",
    "    PolynomialFeatures(degree=2, include_bias=False),\n",
    "    LogisticRegression(solver='lbfgs')\n",
    ")\n",
    "\n",
    "# Fit the model to the data and make predictions\n",
    "logreg_poly.fit(X_train, y_train)\n",
    "y_train_pred4 = logreg_poly.predict(X_train)\n",
    "y_test_pred4 = logreg_poly.predict(X_test)\n",
    "\n",
    "# Evaluate the accuracy of the model\n",
    "print('Training accuracy:', accuracy_score(y_train, y_train_pred4))\n",
    "print('Testing accuracy:', accuracy_score(y_test, y_test_pred4))\n",
    "\n",
    "confusion = confusion_matrix(y_test, y_test_pred4)\n",
    "sns.heatmap(confusion, square = True, annot = True, cbar = False, cmap = 'icefire', \n",
    "            xticklabels = ['benign', 'malignant'], yticklabels = ['benign', 'malignant'])\n",
    "\n",
    "plt.xlabel('predicted value')\n",
    "plt.ylabel('true value')\n"
   ]
  }
 ],
 "metadata": {
  "kernelspec": {
   "display_name": "Python 3",
   "language": "python",
   "name": "python3"
  },
  "language_info": {
   "codemirror_mode": {
    "name": "ipython",
    "version": 3
   },
   "file_extension": ".py",
   "mimetype": "text/x-python",
   "name": "python",
   "nbconvert_exporter": "python",
   "pygments_lexer": "ipython3",
   "version": "3.8.3"
  },
  "orig_nbformat": 4,
  "vscode": {
   "interpreter": {
    "hash": "455dae397a3a99fa8302413ed06bc7cb46a3ea3e3442b13ab6066dcef9df3e2a"
   }
  }
 },
 "nbformat": 4,
 "nbformat_minor": 2
}
