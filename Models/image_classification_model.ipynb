{
 "cells": [
  {
   "cell_type": "code",
   "execution_count": 50,
   "metadata": {},
   "outputs": [],
   "source": [
    "import tensorflow as tf\n",
    "from tensorflow.keras.layers import Conv2D, MaxPooling2D, Activation, Flatten, Dropout, Dense\n",
    "from tensorflow.keras.models import Sequential\n",
    "from tensorflow.keras.preprocessing.image import ImageDataGenerator\n",
    "from keras import backend as K\n",
    " \n",
    "img_width, img_height = 128, 128\n",
    "\n",
    "input_shape = (img_width, img_height, 3) ## we checked that the RGB channel comes last in the data format of these images\n",
    "\n",
    "epochs = 10\n",
    "batch_size = 16"
   ]
  },
  {
   "attachments": {},
   "cell_type": "markdown",
   "metadata": {},
   "source": [
    "### Creating the model (convolutional neural net)"
   ]
  },
  {
   "cell_type": "code",
   "execution_count": 49,
   "metadata": {},
   "outputs": [],
   "source": [
    "model = Sequential() \n",
    "\n",
    "# first convolutional layer \n",
    "model.add(Conv2D(32, (4, 4), activation = 'relu', input_shape = input_shape)) ## convolution of kernel with image\n",
    "model.add(MaxPooling2D(pool_size=(2, 2))) ## reduces dimensionality in order to reduce computational cost + minimize overfitting\n",
    "\n",
    "# second convolutional layer\n",
    "model.add(Conv2D(32, (4, 4), activation = 'relu'))  ## convolution of kernel with image\n",
    "model.add(MaxPooling2D(pool_size=(2, 2)))  ## reduces dimensionality in order to reduce computational cost + minimize overfitting\n",
    " \n",
    "# third convolutional layer\n",
    "model.add(Conv2D(64, (4, 4), activation = 'relu'))  ## convolution of kernel with image\n",
    "model.add(MaxPooling2D(pool_size=(2, 2)))  ## reduces dimensionality in order to reduce computational cost + minimize overfitting\n",
    "\n",
    "model.add(Flatten()) ## transitions from convolutional to fully connected layers by converting the input from multi-dimensional --> 1D\n",
    "\n",
    "# first densely-connected layer \n",
    "model.add(Dense(64, activation = 'relu')) ## creates a fully connected layer with 64 output units (neurons)\n",
    "model.add(Dropout(0.2)) ## this function randomly sets 20% of the input units to 0 at each training step; used to prevent overfitting\n",
    "\n",
    "# second densely-connected layer \n",
    "model.add(Dense(16, activation = 'relu')) ## creates a fully connected layer with 64 output units (neurons)\n",
    "model.add(Dropout(0.2)) ## this function randomly sets 20% of the input units to 0 at each training step; used to prevent overfitting\n",
    "\n",
    "# third densely-connected layer \n",
    "model.add(Dense(4, activation = 'sigmoid')) ## creates a fully connected layer with 4 output units (neurons) corresponding to the 4 output classes\n",
    "\n",
    "model.compile(loss = 'binary_crossentropy',\n",
    "              optimizer = 'rmsprop',\n",
    "              metrics = ['accuracy']) ## try accuracy for now, can change later"
   ]
  },
  {
   "cell_type": "markdown",
   "metadata": {},
   "source": [
    "### Building the model (training on train data and building it to maximize accuracy on validation data)"
   ]
  },
  {
   "cell_type": "code",
   "execution_count": 56,
   "metadata": {
    "scrolled": false
   },
   "outputs": [
    {
     "name": "stdout",
     "output_type": "stream",
     "text": [
      "Found 4487 images belonging to 4 classes.\n",
      "Found 642 images belonging to 4 classes.\n",
      "Epoch 1/10\n",
      "28/28 [==============================] - 19s 653ms/step - loss: 0.4910 - accuracy: 0.4375 - val_loss: 0.4243 - val_accuracy: 0.5625\n",
      "Epoch 2/10\n",
      "28/28 [==============================] - 17s 608ms/step - loss: 0.4977 - accuracy: 0.4152 - val_loss: 0.4391 - val_accuracy: 0.6094\n",
      "Epoch 3/10\n",
      "28/28 [==============================] - 14s 477ms/step - loss: 0.4568 - accuracy: 0.5201 - val_loss: 0.4485 - val_accuracy: 0.3594\n",
      "Epoch 4/10\n",
      "28/28 [==============================] - 15s 536ms/step - loss: 0.4736 - accuracy: 0.4732 - val_loss: 0.4264 - val_accuracy: 0.5781\n",
      "Epoch 5/10\n",
      "28/28 [==============================] - 17s 614ms/step - loss: 0.4510 - accuracy: 0.4844 - val_loss: 0.4260 - val_accuracy: 0.4688\n",
      "Epoch 6/10\n",
      "28/28 [==============================] - 15s 537ms/step - loss: 0.4522 - accuracy: 0.5112 - val_loss: 0.4251 - val_accuracy: 0.4844\n",
      "Epoch 7/10\n",
      "28/28 [==============================] - 17s 623ms/step - loss: 0.4613 - accuracy: 0.4888 - val_loss: 0.4370 - val_accuracy: 0.5000\n",
      "Epoch 8/10\n",
      "28/28 [==============================] - 15s 545ms/step - loss: 0.4515 - accuracy: 0.4888 - val_loss: 0.4363 - val_accuracy: 0.5312\n",
      "Epoch 9/10\n",
      "28/28 [==============================] - 18s 636ms/step - loss: 0.4328 - accuracy: 0.5223 - val_loss: 0.4448 - val_accuracy: 0.5000\n",
      "Epoch 10/10\n",
      "28/28 [==============================] - 19s 661ms/step - loss: 0.4507 - accuracy: 0.4799 - val_loss: 0.4317 - val_accuracy: 0.5625\n"
     ]
    },
    {
     "data": {
      "text/plain": [
       "<keras.callbacks.History at 0x21abdbc0630>"
      ]
     },
     "execution_count": 56,
     "metadata": {},
     "output_type": "execute_result"
    }
   ],
   "source": [
    "datagen = ImageDataGenerator(rotation_range=20, width_shift_range=0.1, height_shift_range=0.1, vertical_flip=True, rescale=1/255) \n",
    "## this is the data augmentor that we will use to try to improve model accuracy, with the range of parameters/allowed modifications it can perform on each image\n",
    "\n",
    "train_data = datagen.flow_from_directory(\n",
    "    directory = r'C:\\Users\\lucia\\OneDrive - University of Calgary\\University\\Year 3\\Semester 2\\Bmen 415\\Coursework\\Course Project\\GitHub\\BMEN-415\\Data\\_split datasets\\image train_test_val split\\train',\n",
    "    target_size = (img_width, img_height),\n",
    "    batch_size = batch_size,\n",
    "    class_mode = 'categorical',\n",
    "    seed = 112)\n",
    " \n",
    "validation_data = datagen.flow_from_directory(\n",
    "    r'C:\\Users\\lucia\\OneDrive - University of Calgary\\University\\Year 3\\Semester 2\\Bmen 415\\Coursework\\Course Project\\GitHub\\BMEN-415\\Data\\_split datasets\\image train_test_val split\\val',\n",
    "    target_size = (img_width, img_height),\n",
    "    batch_size = batch_size,\n",
    "    class_mode = 'categorical',\n",
    "    seed = 112)\n",
    " \n",
    "model.fit(\n",
    "    train_data,\n",
    "    steps_per_epoch = 4487 // (batch_size*epochs),\n",
    "    epochs = epochs,\n",
    "    validation_data = validation_data,\n",
    "    validation_steps = 642 // (batch_size*epochs))\n",
    "\n",
    "# removed class weights since these seem to decrease model performance\n",
    "# class_weight = {0: 4487/627, 1: 4487/44, 2: 4487/2240, 3: 4487/1568}) ## these class weights are based on the train dataset (total train samples/train samples for class i)"
   ]
  },
  {
   "cell_type": "code",
   "execution_count": 57,
   "metadata": {},
   "outputs": [],
   "source": [
    "model.save('CNN_model.h5')"
   ]
  },
  {
   "cell_type": "markdown",
   "metadata": {},
   "source": [
    "### Testing the model (on completely reserved test data)"
   ]
  },
  {
   "cell_type": "code",
   "execution_count": 59,
   "metadata": {},
   "outputs": [
    {
     "name": "stdout",
     "output_type": "stream",
     "text": [
      "Found 1279 files belonging to 4 classes.\n",
      "80/80 [==============================] - 9s 107ms/step - loss: 26.5733 - accuracy: 0.5317\n",
      "Test loss: 26.573341369628906\n",
      "Test accuracy: 0.5316653847694397\n"
     ]
    }
   ],
   "source": [
    "from keras.models import load_model\n",
    "\n",
    "test_data = tf.keras.utils.image_dataset_from_directory(\n",
    "    r'C:\\Users\\lucia\\OneDrive - University of Calgary\\University\\Year 3\\Semester 2\\Bmen 415\\Coursework\\Course Project\\GitHub\\BMEN-415\\Data\\_split datasets\\image train_test_val split\\test',\n",
    "    image_size = (img_width, img_height),\n",
    "    batch_size = batch_size,\n",
    "    labels = 'inferred',\n",
    "    label_mode = 'categorical',\n",
    "    class_names = ['Mild_Demented', 'Moderate_Demented', 'Non_Demented', 'Very_Mild_Demented'],\n",
    "    seed = 112)\n",
    "\n",
    "# Load trained Keras model\n",
    "model = load_model('CNN_model.h5')\n",
    "\n",
    "# Evaluate model on test data\n",
    "loss, accuracy = model.evaluate(test_data)\n",
    "print('Test loss:', loss)\n",
    "print('Test accuracy:', accuracy)"
   ]
  }
 ],
 "metadata": {
  "kernelspec": {
   "display_name": "Python 3",
   "language": "python",
   "name": "python3"
  },
  "language_info": {
   "codemirror_mode": {
    "name": "ipython",
    "version": 3
   },
   "file_extension": ".py",
   "mimetype": "text/x-python",
   "name": "python",
   "nbconvert_exporter": "python",
   "pygments_lexer": "ipython3",
   "version": "3.8.3"
  },
  "orig_nbformat": 4
 },
 "nbformat": 4,
 "nbformat_minor": 2
}
