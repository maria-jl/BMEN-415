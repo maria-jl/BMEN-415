{
 "cells": [
  {
   "cell_type": "code",
   "execution_count": 24,
   "metadata": {},
   "outputs": [],
   "source": [
    "import tensorflow as tf\n",
    "from tensorflow.keras.layers import Conv2D, MaxPooling2D, Activation, Flatten, Dropout, Dense\n",
    "from tensorflow.keras.models import Sequential\n",
    "from keras import backend as K\n",
    " \n",
    "img_width, img_height = 128, 128\n",
    "\n",
    "input_shape = (img_width, img_height, 3) ## we checked that the RGB channel comes last in the data format of these images\n",
    "\n",
    "epochs = 10\n",
    "batch_size = 10"
   ]
  },
  {
   "attachments": {},
   "cell_type": "markdown",
   "metadata": {},
   "source": [
    "### Creating the model"
   ]
  },
  {
   "cell_type": "code",
   "execution_count": 25,
   "metadata": {},
   "outputs": [],
   "source": [
    "model = Sequential()\n",
    "model.add(Conv2D(32, (2, 2), activation = 'relu', input_shape = input_shape)) ## convolution of kernel with image\n",
    "model.add(MaxPooling2D(pool_size=(2, 2))) ## reduces dimensionality in order to reduce computational cost + minimize overfitting\n",
    " \n",
    "model.add(Conv2D(32, (2, 2), activation = 'relu'))  ## convolution of kernel with image\n",
    "model.add(MaxPooling2D(pool_size=(2, 2)))  ## reduces dimensionality in order to reduce computational cost + minimize overfitting\n",
    " \n",
    "model.add(Conv2D(64, (2, 2), activation = 'relu'))  ## convolution of kernel with image\n",
    "model.add(MaxPooling2D(pool_size=(2, 2)))  ## reduces dimensionality in order to reduce computational cost + minimize overfitting\n",
    "\n",
    "model.add(Flatten()) ## transitions from convolutional to fully connected layers by converting the input from multi-dimensional --> 1D\n",
    "model.add(Dense(64, activation = 'relu')) ## creates a fully connected layer with 64 output units (neurons)\n",
    "model.add(Dropout(0.1)) ## this function randomly sets 10% of the input units to 0 at each training step; used to prevent overfitting\n",
    "model.add(Dense(4, activation = 'sigmoid')) ## creates a fully connected layer with 4 output units (neurons) corresponding to the 4 output classes\n",
    "\n",
    "model.compile(loss = 'binary_crossentropy',\n",
    "              optimizer = 'rmsprop',\n",
    "              metrics = ['accuracy']) ## try accuracy for now, can change later"
   ]
  },
  {
   "cell_type": "markdown",
   "metadata": {},
   "source": [
    "### Building the model (training on train data and building it to maximize accuracy on validation data)"
   ]
  },
  {
   "cell_type": "code",
   "execution_count": 26,
   "metadata": {
    "scrolled": false
   },
   "outputs": [
    {
     "name": "stdout",
     "output_type": "stream",
     "text": [
      "Found 4487 files belonging to 4 classes.\n",
      "Found 642 files belonging to 4 classes.\n",
      "Epoch 1/10\n",
      "44/44 [==============================] - 13s 232ms/step - loss: 25.1263 - accuracy: 0.2636 - val_loss: 0.5775 - val_accuracy: 0.2167\n",
      "Epoch 2/10\n",
      "44/44 [==============================] - 7s 168ms/step - loss: 1.9105 - accuracy: 0.3818 - val_loss: 0.4706 - val_accuracy: 0.4500\n",
      "Epoch 3/10\n",
      "44/44 [==============================] - 7s 166ms/step - loss: 2.2199 - accuracy: 0.3636 - val_loss: 0.5140 - val_accuracy: 0.4167\n",
      "Epoch 4/10\n",
      "44/44 [==============================] - 9s 202ms/step - loss: 2.0192 - accuracy: 0.4636 - val_loss: 0.4517 - val_accuracy: 0.4167\n",
      "Epoch 5/10\n",
      "44/44 [==============================] - 8s 183ms/step - loss: 3.6406 - accuracy: 0.3864 - val_loss: 0.5717 - val_accuracy: 0.2333\n",
      "Epoch 6/10\n",
      "44/44 [==============================] - 7s 164ms/step - loss: 2.6146 - accuracy: 0.4318 - val_loss: 0.5866 - val_accuracy: 0.1167\n",
      "Epoch 7/10\n",
      "44/44 [==============================] - 7s 162ms/step - loss: 3.1528 - accuracy: 0.2932 - val_loss: 0.6501 - val_accuracy: 0.1333\n",
      "Epoch 8/10\n",
      "44/44 [==============================] - 7s 154ms/step - loss: 2.3529 - accuracy: 0.3477 - val_loss: 0.5435 - val_accuracy: 0.4667\n",
      "Epoch 9/10\n",
      "44/44 [==============================] - 7s 157ms/step - loss: 1.7546 - accuracy: 0.4614 - val_loss: 0.4502 - val_accuracy: 0.5167\n",
      "Epoch 10/10\n",
      "44/44 [==============================] - 7s 157ms/step - loss: 2.2855 - accuracy: 0.3955 - val_loss: 0.4273 - val_accuracy: 0.5167\n"
     ]
    },
    {
     "data": {
      "text/plain": [
       "<keras.callbacks.History at 0x21aa61fd160>"
      ]
     },
     "execution_count": 26,
     "metadata": {},
     "output_type": "execute_result"
    }
   ],
   "source": [
    "train_data = tf.keras.utils.image_dataset_from_directory(\n",
    "    r'C:\\Users\\lucia\\OneDrive - University of Calgary\\University\\Year 3\\Semester 2\\Bmen 415\\Coursework\\Course Project\\GitHub\\BMEN-415\\Data\\_split datasets\\image train_test_val split\\train',\n",
    "    image_size = (img_width, img_height),\n",
    "    batch_size = batch_size,\n",
    "    labels = 'inferred',\n",
    "    label_mode = 'categorical',\n",
    "    class_names = ['Mild_Demented', 'Moderate_Demented', 'Non_Demented', 'Very_Mild_Demented'],\n",
    "    seed = 112)\n",
    " \n",
    "validation_data = tf.keras.utils.image_dataset_from_directory(\n",
    "    r'C:\\Users\\lucia\\OneDrive - University of Calgary\\University\\Year 3\\Semester 2\\Bmen 415\\Coursework\\Course Project\\GitHub\\BMEN-415\\Data\\_split datasets\\image train_test_val split\\val',\n",
    "    image_size = (img_width, img_height),\n",
    "    batch_size = batch_size,\n",
    "    labels = 'inferred',\n",
    "    label_mode = 'categorical',\n",
    "    class_names = ['Mild_Demented', 'Moderate_Demented', 'Non_Demented', 'Very_Mild_Demented'],\n",
    "    seed = 112)\n",
    " \n",
    "model.fit(\n",
    "    train_data,\n",
    "    steps_per_epoch = 4487 // (batch_size*epochs),\n",
    "    epochs = epochs,\n",
    "    validation_data = validation_data,\n",
    "    validation_steps = 642 // (batch_size*epochs),\n",
    "    class_weight = {0: 4487/627, 1: 4487/44, 2: 4487/2240, 3: 4487/1568}) ## these class weights are based on the train dataset (total train samples/train samples for class i)"
   ]
  },
  {
   "cell_type": "code",
   "execution_count": null,
   "metadata": {},
   "outputs": [],
   "source": [
    "model.save('CNN_model.h5')"
   ]
  },
  {
   "cell_type": "code",
   "execution_count": null,
   "metadata": {},
   "outputs": [
    {
     "name": "stdout",
     "output_type": "stream",
     "text": [
      "[[0.25720322]]\n",
      "Predicted Class:  0.25720322\n"
     ]
    }
   ],
   "source": [
    "from keras.models import load_model\n",
    "from keras.preprocessing.image import load_img\n",
    "from keras.preprocessing.image import img_to_array\n",
    "from keras.applications.vgg16 import preprocess_input\n",
    "from keras.applications.vgg16 import decode_predictions\n",
    "from keras.applications.vgg16 import VGG16\n",
    "import numpy as np\n",
    " \n",
    "from keras.models import load_model\n",
    " \n",
    "model = load_model('CNN_model.h5')\n",
    " \n",
    "## let's test one of the mild demented images reserved in the training dataset\n",
    "image = load_img(r'C:\\Users\\lucia\\OneDrive - University of Calgary\\University\\Year 3\\Semester 2\\Bmen 415\\Coursework\\Course Project\\_FINAL DATASETS\\alzheimer mri preprocessed dataset\\train_test_val split\\test\\Mild_Demented\\mild_55.jpg', target_size = (128, 128))\n",
    "img = np.array(image) / 255\n",
    "img = img.reshape(1, 128, 128, 3)\n",
    "\n",
    "prediction = model.predict(img)\n",
    "print(prediction)"
   ]
  }
 ],
 "metadata": {
  "kernelspec": {
   "display_name": "Python 3",
   "language": "python",
   "name": "python3"
  },
  "language_info": {
   "codemirror_mode": {
    "name": "ipython",
    "version": 3
   },
   "file_extension": ".py",
   "mimetype": "text/x-python",
   "name": "python",
   "nbconvert_exporter": "python",
   "pygments_lexer": "ipython3",
   "version": "3.8.3"
  },
  "orig_nbformat": 4
 },
 "nbformat": 4,
 "nbformat_minor": 2
}
