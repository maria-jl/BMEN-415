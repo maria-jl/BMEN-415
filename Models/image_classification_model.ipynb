{
 "cells": [
  {
   "cell_type": "code",
   "execution_count": 46,
   "metadata": {},
   "outputs": [],
   "source": [
    "import tensorflow as tf\n",
    "from tensorflow.keras.layers import Conv2D, MaxPooling2D, Activation, Flatten, Dropout, Dense\n",
    "from tensorflow.keras.models import Sequential\n",
    "from keras import backend as K\n",
    " \n",
    "img_width, img_height = 128, 128\n",
    "\n",
    "input_shape = (img_width, img_height, 3) ## we checked that the RGB channel comes last in the data format of these images\n",
    "\n",
    "epochs = 10\n",
    "batch_size = 16"
   ]
  },
  {
   "attachments": {},
   "cell_type": "markdown",
   "metadata": {},
   "source": [
    "### Creating the model"
   ]
  },
  {
   "cell_type": "code",
   "execution_count": 42,
   "metadata": {},
   "outputs": [],
   "source": [
    "model = Sequential()\n",
    "\n",
    "# first convolutional layer \n",
    "model.add(Conv2D(32, (4, 4), activation = 'relu', input_shape = input_shape)) ## convolution of kernel with image\n",
    "model.add(MaxPooling2D(pool_size=(2, 2))) ## reduces dimensionality in order to reduce computational cost + minimize overfitting\n",
    "\n",
    "# second convolutional layer\n",
    "model.add(Conv2D(32, (4, 4), activation = 'relu'))  ## convolution of kernel with image\n",
    "model.add(MaxPooling2D(pool_size=(2, 2)))  ## reduces dimensionality in order to reduce computational cost + minimize overfitting\n",
    " \n",
    "# third convolutional layer\n",
    "model.add(Conv2D(64, (4, 4), activation = 'relu'))  ## convolution of kernel with image\n",
    "model.add(MaxPooling2D(pool_size=(2, 2)))  ## reduces dimensionality in order to reduce computational cost + minimize overfitting\n",
    "\n",
    "model.add(Flatten()) ## transitions from convolutional to fully connected layers by converting the input from multi-dimensional --> 1D\n",
    "\n",
    "# first densely-connected layer \n",
    "model.add(Dense(64, activation = 'relu')) ## creates a fully connected layer with 64 output units (neurons)\n",
    "model.add(Dropout(0.2)) ## this function randomly sets 20% of the input units to 0 at each training step; used to prevent overfitting\n",
    "\n",
    "# second densely-connected layer \n",
    "model.add(Dense(16, activation = 'relu')) ## creates a fully connected layer with 64 output units (neurons)\n",
    "model.add(Dropout(0.2)) ## this function randomly sets 20% of the input units to 0 at each training step; used to prevent overfitting\n",
    "\n",
    "# third densely-connected layer \n",
    "model.add(Dense(4, activation = 'sigmoid')) ## creates a fully connected layer with 4 output units (neurons) corresponding to the 4 output classes\n",
    "\n",
    "model.compile(loss = 'binary_crossentropy',\n",
    "              optimizer = 'rmsprop',\n",
    "              metrics = ['accuracy']) ## try accuracy for now, can change later"
   ]
  },
  {
   "cell_type": "markdown",
   "metadata": {},
   "source": [
    "### Building the model (training on train data and building it to maximize accuracy on validation data)"
   ]
  },
  {
   "cell_type": "code",
   "execution_count": 47,
   "metadata": {
    "scrolled": false
   },
   "outputs": [
    {
     "name": "stdout",
     "output_type": "stream",
     "text": [
      "Found 4487 files belonging to 4 classes.\n",
      "Found 642 files belonging to 4 classes.\n",
      "Epoch 1/20\n",
      "14/14 [==============================] - 8s 514ms/step - loss: 3.1355 - accuracy: 0.2455 - val_loss: 0.5851 - val_accuracy: 0.2188\n",
      "Epoch 2/20\n",
      "14/14 [==============================] - 6s 409ms/step - loss: 3.2801 - accuracy: 0.1384 - val_loss: 0.5618 - val_accuracy: 0.1562\n",
      "Epoch 3/20\n",
      "14/14 [==============================] - 7s 536ms/step - loss: 1.6971 - accuracy: 0.3527 - val_loss: 0.4978 - val_accuracy: 0.3750\n",
      "Epoch 4/20\n",
      "14/14 [==============================] - 6s 453ms/step - loss: 1.5546 - accuracy: 0.4509 - val_loss: 0.4438 - val_accuracy: 0.6250\n",
      "Epoch 5/20\n",
      "14/14 [==============================] - 6s 414ms/step - loss: 2.1541 - accuracy: 0.3929 - val_loss: 0.5125 - val_accuracy: 0.3125\n",
      "Epoch 6/20\n",
      "14/14 [==============================] - 5s 383ms/step - loss: 2.2628 - accuracy: 0.3214 - val_loss: 0.5071 - val_accuracy: 0.3125\n",
      "Epoch 7/20\n",
      "14/14 [==============================] - 5s 394ms/step - loss: 2.7299 - accuracy: 0.3393 - val_loss: 0.5761 - val_accuracy: 0.0938\n",
      "Epoch 8/20\n",
      "14/14 [==============================] - 5s 349ms/step - loss: 1.5478 - accuracy: 0.3214 - val_loss: 0.4528 - val_accuracy: 0.5000\n",
      "Epoch 9/20\n",
      "14/14 [==============================] - 5s 359ms/step - loss: 2.7167 - accuracy: 0.3438 - val_loss: 0.5707 - val_accuracy: 0.2812\n",
      "Epoch 10/20\n",
      "14/14 [==============================] - 5s 372ms/step - loss: 2.9761 - accuracy: 0.1920 - val_loss: 0.5385 - val_accuracy: 0.3125\n",
      "Epoch 11/20\n",
      "14/14 [==============================] - 6s 415ms/step - loss: 2.0071 - accuracy: 0.3125 - val_loss: 0.5024 - val_accuracy: 0.5938\n",
      "Epoch 12/20\n",
      "14/14 [==============================] - 5s 386ms/step - loss: 3.2115 - accuracy: 0.2277 - val_loss: 0.5329 - val_accuracy: 0.2500\n",
      "Epoch 13/20\n",
      "14/14 [==============================] - 5s 389ms/step - loss: 2.5292 - accuracy: 0.2679 - val_loss: 0.5294 - val_accuracy: 0.4375\n",
      "Epoch 14/20\n",
      "14/14 [==============================] - 5s 374ms/step - loss: 2.5909 - accuracy: 0.4062 - val_loss: 0.4858 - val_accuracy: 0.4375\n",
      "Epoch 15/20\n",
      "14/14 [==============================] - 6s 457ms/step - loss: 2.8993 - accuracy: 0.2545 - val_loss: 0.5818 - val_accuracy: 0.1562\n",
      "Epoch 16/20\n",
      "14/14 [==============================] - 5s 371ms/step - loss: 2.1366 - accuracy: 0.1786 - val_loss: 0.5290 - val_accuracy: 0.1875\n",
      "Epoch 17/20\n",
      "14/14 [==============================] - 5s 367ms/step - loss: 1.8752 - accuracy: 0.3527 - val_loss: 0.5015 - val_accuracy: 0.3125\n",
      "Epoch 18/20\n",
      "14/14 [==============================] - 5s 374ms/step - loss: 2.3860 - accuracy: 0.3438 - val_loss: 0.5760 - val_accuracy: 0.1562\n",
      "Epoch 19/20\n",
      "14/14 [==============================] - 5s 392ms/step - loss: 2.8150 - accuracy: 0.2277 - val_loss: 0.4887 - val_accuracy: 0.4062\n",
      "Epoch 20/20\n",
      "14/14 [==============================] - 5s 389ms/step - loss: 2.1825 - accuracy: 0.3304 - val_loss: 0.6012 - val_accuracy: 0.1250\n"
     ]
    },
    {
     "data": {
      "text/plain": [
       "<keras.callbacks.History at 0x21aa5e5b3c8>"
      ]
     },
     "execution_count": 47,
     "metadata": {},
     "output_type": "execute_result"
    }
   ],
   "source": [
    "train_data = tf.keras.utils.image_dataset_from_directory(\n",
    "    r'C:\\Users\\lucia\\OneDrive - University of Calgary\\University\\Year 3\\Semester 2\\Bmen 415\\Coursework\\Course Project\\GitHub\\BMEN-415\\Data\\_split datasets\\image train_test_val split\\train',\n",
    "    image_size = (img_width, img_height),\n",
    "    batch_size = batch_size,\n",
    "    labels = 'inferred',\n",
    "    label_mode = 'categorical',\n",
    "    class_names = ['Mild_Demented', 'Moderate_Demented', 'Non_Demented', 'Very_Mild_Demented'],\n",
    "    seed = 112)\n",
    " \n",
    "validation_data = tf.keras.utils.image_dataset_from_directory(\n",
    "    r'C:\\Users\\lucia\\OneDrive - University of Calgary\\University\\Year 3\\Semester 2\\Bmen 415\\Coursework\\Course Project\\GitHub\\BMEN-415\\Data\\_split datasets\\image train_test_val split\\val',\n",
    "    image_size = (img_width, img_height),\n",
    "    batch_size = batch_size,\n",
    "    labels = 'inferred',\n",
    "    label_mode = 'categorical',\n",
    "    class_names = ['Mild_Demented', 'Moderate_Demented', 'Non_Demented', 'Very_Mild_Demented'],\n",
    "    seed = 112)\n",
    " \n",
    "model.fit(\n",
    "    train_data,\n",
    "    steps_per_epoch = 4487 // (batch_size*epochs),\n",
    "    epochs = epochs,\n",
    "    validation_data = validation_data,\n",
    "    validation_steps = 642 // (batch_size*epochs),\n",
    "    class_weight = {0: 4487/627, 1: 4487/44, 2: 4487/2240, 3: 4487/1568}) ## these class weights are based on the train dataset (total train samples/train samples for class i)"
   ]
  },
  {
   "cell_type": "code",
   "execution_count": null,
   "metadata": {},
   "outputs": [],
   "source": [
    "model.save('CNN_model.h5')"
   ]
  },
  {
   "cell_type": "code",
   "execution_count": null,
   "metadata": {},
   "outputs": [
    {
     "name": "stdout",
     "output_type": "stream",
     "text": [
      "[[0.25720322]]\n",
      "Predicted Class:  0.25720322\n"
     ]
    }
   ],
   "source": [
    "from keras.models import load_model\n",
    "from keras.preprocessing.image import load_img\n",
    "from keras.preprocessing.image import img_to_array\n",
    "from keras.applications.vgg16 import preprocess_input\n",
    "from keras.applications.vgg16 import decode_predictions\n",
    "from keras.applications.vgg16 import VGG16\n",
    "import numpy as np\n",
    " \n",
    "from keras.models import load_model\n",
    " \n",
    "model = load_model('CNN_model.h5')\n",
    " \n",
    "## let's test one of the mild demented images reserved in the training dataset\n",
    "image = load_img(r'C:\\Users\\lucia\\OneDrive - University of Calgary\\University\\Year 3\\Semester 2\\Bmen 415\\Coursework\\Course Project\\_FINAL DATASETS\\alzheimer mri preprocessed dataset\\train_test_val split\\test\\Mild_Demented\\mild_55.jpg', target_size = (128, 128))\n",
    "img = np.array(image) / 255\n",
    "img = img.reshape(1, 128, 128, 3)\n",
    "\n",
    "prediction = model.predict(img)\n",
    "print(prediction)"
   ]
  }
 ],
 "metadata": {
  "kernelspec": {
   "display_name": "Python 3",
   "language": "python",
   "name": "python3"
  },
  "language_info": {
   "codemirror_mode": {
    "name": "ipython",
    "version": 3
   },
   "file_extension": ".py",
   "mimetype": "text/x-python",
   "name": "python",
   "nbconvert_exporter": "python",
   "pygments_lexer": "ipython3",
   "version": "3.8.3"
  },
  "orig_nbformat": 4
 },
 "nbformat": 4,
 "nbformat_minor": 2
}
