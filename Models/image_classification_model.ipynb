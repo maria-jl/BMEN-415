{
 "cells": [
  {
   "cell_type": "code",
   "execution_count": 9,
   "metadata": {},
   "outputs": [],
   "source": [
    "import tensorflow as tf\n",
    "from tensorflow.keras.layers import Conv2D, MaxPooling2D, Flatten, Dense\n",
    "from tensorflow.keras.models import Sequential\n",
    "from keras import backend as K\n",
    " \n",
    "img_width, img_height = 128, 128\n",
    "\n",
    "input_shape = (img_width, img_height, 3) ## we checked that the RGB channel comes last in the data format of these images\n",
    "\n",
    "epochs = 10\n",
    "batch_size = 16"
   ]
  },
  {
   "cell_type": "code",
   "execution_count": 21,
   "metadata": {},
   "outputs": [],
   "source": [
    "model = Sequential()\n",
    "model.add(Conv2D(32, (2, 2), input_shape = input_shape))\n",
    "model.add(Activation('relu'))\n",
    "model.add(MaxPooling2D(pool_size=(2, 2)))\n",
    " \n",
    "model.add(Conv2D(32, (2, 2)))\n",
    "model.add(Activation('relu'))\n",
    "model.add(MaxPooling2D(pool_size=(2, 2)))\n",
    " \n",
    "model.add(Conv2D(64, (2, 2)))\n",
    "model.add(Activation('relu'))\n",
    "model.add(MaxPooling2D(pool_size=(2, 2)))\n",
    " \n",
    "model.add(Flatten())\n",
    "model.add(Dense(64))\n",
    "model.add(Activation('relu'))\n",
    "model.add(Dropout(0.5))\n",
    "model.add(Dense(4)) ## 4 output classes\n",
    "model.add(Activation('sigmoid'))\n",
    "\n",
    "model.compile(loss = 'binary_crossentropy',\n",
    "              optimizer = 'rmsprop',\n",
    "              metrics = ['accuracy']) ## try accuracy for now, can change later"
   ]
  },
  {
   "cell_type": "code",
   "execution_count": 27,
   "metadata": {
    "scrolled": false
   },
   "outputs": [
    {
     "name": "stdout",
     "output_type": "stream",
     "text": [
      "Found 4487 files belonging to 4 classes.\n",
      "Found 642 files belonging to 4 classes.\n",
      "Epoch 1/10\n",
      "28/28 [==============================] - 4s 121ms/step - loss: 0.4731 - accuracy: 0.5357 - val_loss: 0.4333 - val_accuracy: 0.5469\n",
      "Epoch 2/10\n",
      "28/28 [==============================] - 3s 121ms/step - loss: 0.4623 - accuracy: 0.4799 - val_loss: 0.4294 - val_accuracy: 0.5312\n",
      "Epoch 3/10\n",
      "28/28 [==============================] - 3s 124ms/step - loss: 0.4610 - accuracy: 0.5134 - val_loss: 0.4399 - val_accuracy: 0.4688\n",
      "Epoch 4/10\n",
      "28/28 [==============================] - 3s 123ms/step - loss: 0.4430 - accuracy: 0.5424 - val_loss: 0.4510 - val_accuracy: 0.5156\n",
      "Epoch 5/10\n",
      "28/28 [==============================] - 3s 122ms/step - loss: 0.4694 - accuracy: 0.5312 - val_loss: 0.4412 - val_accuracy: 0.5000\n",
      "Epoch 6/10\n",
      "28/28 [==============================] - 3s 124ms/step - loss: 0.4404 - accuracy: 0.5603 - val_loss: 0.4437 - val_accuracy: 0.5000\n",
      "Epoch 7/10\n",
      "28/28 [==============================] - 3s 124ms/step - loss: 0.4498 - accuracy: 0.5223 - val_loss: 0.4046 - val_accuracy: 0.5312\n",
      "Epoch 8/10\n",
      "28/28 [==============================] - 8s 293ms/step - loss: 0.4462 - accuracy: 0.5379 - val_loss: 0.3794 - val_accuracy: 0.6094\n",
      "Epoch 9/10\n",
      "28/28 [==============================] - 4s 133ms/step - loss: 0.4266 - accuracy: 0.5312 - val_loss: 0.4109 - val_accuracy: 0.5781\n",
      "Epoch 10/10\n",
      "28/28 [==============================] - 4s 134ms/step - loss: 0.4459 - accuracy: 0.5536 - val_loss: 0.4310 - val_accuracy: 0.4531\n"
     ]
    },
    {
     "data": {
      "text/plain": [
       "<keras.callbacks.History at 0x1d66c203280>"
      ]
     },
     "execution_count": 27,
     "metadata": {},
     "output_type": "execute_result"
    }
   ],
   "source": [
    "# previously we used the datagen.flow_from_directory function for ease of loading data for the model even though\n",
    "# it is technically a data augmentation method; this may be outdated so let's try image_dataset_from_directory\n",
    " \n",
    "train_data = tf.keras.utils.image_dataset_from_directory(\n",
    "    r'C:\\Users\\lucia\\OneDrive - University of Calgary\\University\\Year 3\\Semester 2\\Bmen 415\\Coursework\\Course Project\\GitHub\\BMEN-415\\Data\\_split datasets\\image train_test_val split\\train',\n",
    "    image_size = (img_width, img_height),\n",
    "    batch_size = batch_size,\n",
    "    labels='inferred',\n",
    "    label_mode = 'categorical',\n",
    "    class_names = ['Mild_Demented', 'Moderate_Demented', 'Non_Demented', 'Very_Mild_Demented'],\n",
    "    seed = 112)\n",
    " \n",
    "validation_data = tf.keras.utils.image_dataset_from_directory(\n",
    "    r'C:\\Users\\lucia\\OneDrive - University of Calgary\\University\\Year 3\\Semester 2\\Bmen 415\\Coursework\\Course Project\\GitHub\\BMEN-415\\Data\\_split datasets\\image train_test_val split\\val',\n",
    "    image_size = (img_width, img_height),\n",
    "    batch_size = batch_size,\n",
    "    labels='inferred',\n",
    "    label_mode = 'categorical',\n",
    "    class_names = ['Mild_Demented', 'Moderate_Demented', 'Non_Demented', 'Very_Mild_Demented'],\n",
    "    seed = 112)\n",
    " \n",
    "model.fit(\n",
    "    train_data,\n",
    "    steps_per_epoch = 4487 // (batch_size*epochs),\n",
    "    epochs = epochs,\n",
    "    validation_data = validation_data,\n",
    "    validation_steps = 642 // (batch_size*epochs))\n",
    "\n",
    "    ## NOTE: took out the class weights *for now* since the model accuracy seems to be higher without it\n",
    "    ## class_weight = {0: 4487/627, 1: 4487/44, 2: 4487/2240, 3: 4487/1568}"
   ]
  },
  {
   "cell_type": "code",
   "execution_count": 28,
   "metadata": {},
   "outputs": [],
   "source": [
    "model.save('CNN_model.h5')"
   ]
  },
  {
   "cell_type": "code",
   "execution_count": 32,
   "metadata": {},
   "outputs": [
    {
     "name": "stdout",
     "output_type": "stream",
     "text": [
      "1/1 [==============================] - 0s 81ms/step\n",
      "[[0.3756     0.4137411  0.39648595 0.3891413 ]]\n"
     ]
    }
   ],
   "source": [
    "from tensorflow.keras.models import load_model\n",
    "from tensorflow.keras.preprocessing.image import load_img\n",
    "from tensorflow.keras.preprocessing.image import img_to_array\n",
    "from tensorflow.keras.applications.vgg16 import preprocess_input\n",
    "from tensorflow.keras.applications.vgg16 import decode_predictions\n",
    "from tensorflow.keras.applications.vgg16 import VGG16\n",
    "import numpy as np\n",
    " \n",
    "from keras.models import load_model\n",
    " \n",
    "model = load_model('CNN_model.h5')\n",
    " \n",
    "## let's test one of the mild demented images reserved in the training dataset\n",
    "image = load_img(r'C:\\Users\\lucia\\OneDrive - University of Calgary\\University\\Year 3\\Semester 2\\Bmen 415\\Coursework\\Course Project\\_FINAL DATASETS\\alzheimer mri preprocessed dataset\\train_test_val split\\test\\Mild_Demented\\mild_55.jpg', target_size = (128, 128))\n",
    "img = np.array(image) / 255\n",
    "img = img.reshape(1, 128, 128, 3)\n",
    "\n",
    "prediction = model.predict(img)\n",
    "print(prediction)\n",
    "## these are probabilities, i.e. the predicted class is 2 = moderate demented?"
   ]
  }
 ],
 "metadata": {
  "kernelspec": {
   "display_name": "Python 3",
   "language": "python",
   "name": "python3"
  },
  "language_info": {
   "codemirror_mode": {
    "name": "ipython",
    "version": 3
   },
   "file_extension": ".py",
   "mimetype": "text/x-python",
   "name": "python",
   "nbconvert_exporter": "python",
   "pygments_lexer": "ipython3",
   "version": "3.6.8"
  }
 },
 "nbformat": 4,
 "nbformat_minor": 2
}
