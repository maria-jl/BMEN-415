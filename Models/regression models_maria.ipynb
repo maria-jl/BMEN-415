{
 "cells": [
  {
   "cell_type": "code",
   "execution_count": null,
   "metadata": {},
   "outputs": [],
   "source": [
    "import numpy as np\n",
    "import pandas as pd\n",
    "\n",
    "import matplotlib.pyplot as plt\n",
    "import seaborn as sns\n",
    "\n",
    "import sklearn\n",
    "import lightgbm\n",
    "\n",
    "from sklearn.metrics import mean_squared_error\n",
    "from sklearn.metrics import r2_score\n",
    "\n",
    "from sklearn.model_selection import KFold\n",
    "from sklearn.model_selection import GridSearchCV\n",
    "\n",
    "X_test = pd.read_csv(r'C:\\Users\\lucia\\OneDrive - University of Calgary\\University\\Year 3\\Semester 2\\Bmen 415\\Coursework\\Course Project\\_FINAL DATASETS\\regression_Xtest.csv')\n",
    "X_train = pd.read_csv(r'C:\\Users\\lucia\\OneDrive - University of Calgary\\University\\Year 3\\Semester 2\\Bmen 415\\Coursework\\Course Project\\_FINAL DATASETS\\regression_Xtrain.csv')\n",
    "y_test = pd.read_csv(r'C:\\Users\\lucia\\OneDrive - University of Calgary\\University\\Year 3\\Semester 2\\Bmen 415\\Coursework\\Course Project\\_FINAL DATASETS\\regression_ytest.csv')\n",
    "y_train = pd.read_csv(r'C:\\Users\\lucia\\OneDrive - University of Calgary\\University\\Year 3\\Semester 2\\Bmen 415\\Coursework\\Course Project\\_FINAL DATASETS\\regression_ytrain.csv')"
   ]
  },
  {
   "cell_type": "code",
   "execution_count": 3,
   "metadata": {},
   "outputs": [],
   "source": [
    "def model_metrics(model):\n",
    "    model.fit(X_train, y_train)\n",
    "\n",
    "    y_train_pred = model.predict(X_train)\n",
    "    y_test_pred = model.predict(X_test)\n",
    "\n",
    "    print('Training MSE:', mean_squared_error(y_train, y_train_pred))\n",
    "    print('Training r^2:', r2_score(y_train, y_train_pred))\n",
    "    print('Testing MSE:', mean_squared_error(y_test, y_test_pred))\n",
    "    print('Testing r^2:', r2_score(y_test, y_test_pred))\n",
    "\n",
    "    fig = plt.figure()\n",
    "    ax1 = fig.add_subplot(111)\n",
    "\n",
    "    plt.scatter(y_test, y_test_pred)\n",
    "    plt.title('Predicted vs. Actual (test data)')\n",
    "    plt.xlabel('Actual')\n",
    "    plt.ylabel('Predicted')\n",
    "\n",
    "    plt.show()"
   ]
  },
  {
   "attachments": {},
   "cell_type": "markdown",
   "metadata": {},
   "source": [
    "NOTES ON MODEL TUNING and PROCESSING\n",
    "\n",
    "Similar to the classification dataset, here model tuning will be used to (hopefully) improve model performance, or at lesat to differentiate these models from other models in the group which may otherwise be identical (e.g. Random Forest). Model performance will here be optimized, and reported, using mean square error which is typical for regression machine learning. Scatter plots of actual vs predicted outputs for the test data will also be reported in order to better visualize model performance.\n",
    "\n",
    "Once again, feature selection and other preprocessing (e.g. scaling) was NOT performed on the intial dataset, so it may lead to limitations which some models (e.g. elastic net regression) which will be affected if different features have significantly different ranges."
   ]
  },
  {
   "attachments": {},
   "cell_type": "markdown",
   "metadata": {},
   "source": [
    "### 1. Elastic net regression"
   ]
  },
  {
   "attachments": {},
   "cell_type": "markdown",
   "metadata": {},
   "source": [
    "Elastic net regression is inherently a linear model, which is an obvious limitation since this data may not be (and is likely not) fully linear. However, it does have the ability to perform some feature selection."
   ]
  },
  {
   "cell_type": "code",
   "execution_count": 4,
   "metadata": {},
   "outputs": [],
   "source": [
    "from sklearn.linear_model import ElasticNet"
   ]
  },
  {
   "cell_type": "code",
   "execution_count": 14,
   "metadata": {},
   "outputs": [
    {
     "name": "stderr",
     "output_type": "stream",
     "text": [
      "c:\\Users\\lucia\\AppData\\Local\\Programs\\Python\\Python36\\lib\\site-packages\\sklearn\\linear_model\\_coordinate_descent.py:532: ConvergenceWarning: Objective did not converge. You might want to increase the number of iterations. Duality gap: 0.07847424768126432, tolerance: 2.8802223297133496e-05\n",
      "  positive)\n"
     ]
    },
    {
     "data": {
      "text/plain": [
       "{'alpha': 0.2, 'l1_ratio': 0.0, 'max_iter': 100}"
      ]
     },
     "execution_count": 14,
     "metadata": {},
     "output_type": "execute_result"
    }
   ],
   "source": [
    "## MODEL TUNING\n",
    "\n",
    "CV = KFold(n_splits = 5, shuffle = True, random_state = 112)\n",
    "\n",
    "# Preliminary grid search (searches 10x5x5 = 250 sets of 'random' values)\n",
    "\n",
    "grid = {'max_iter': list(np.arange(100, 2000, 200)),\n",
    "        'l1_ratio': list(np.arange(0, 1.1, 0.2)),\n",
    "        'alpha': list(np.arange(0, 1.1, 0.2))}\n",
    "\n",
    "prelim_grid_search = GridSearchCV(estimator = ElasticNet(random_state = 112), param_grid = grid, scoring = 'neg_mean_squared_error', cv = CV, n_jobs = -1)\n",
    "prelim_grid_search.fit(X_train, y_train)\n",
    "\n",
    "prelim_grid_search.best_params_\n",
    "\n",
    "# NOTE: l1_ratio = 0 --> l2 regularization, max_iter = min value given --> possible indication of poor model"
   ]
  },
  {
   "cell_type": "code",
   "execution_count": 15,
   "metadata": {},
   "outputs": [
    {
     "name": "stdout",
     "output_type": "stream",
     "text": [
      "Training MSE: 0.0023416441704986577\n",
      "Testing MSE: 0.002411272976883384\n"
     ]
    },
    {
     "data": {
      "image/png": "[encoded data removed]",
      "text/plain": [
       "<Figure size 432x288 with 1 Axes>"
      ]
     },
     "metadata": {
      "needs_background": "light"
     },
     "output_type": "display_data"
    }
   ],
   "source": [
    "## MODEL BUILDING - before model tuning\n",
    "\n",
    "eln = ElasticNet(random_state = 112)\n",
    "\n",
    "model_metrics(eln)"
   ]
  },
  {
   "cell_type": "code",
   "execution_count": 16,
   "metadata": {},
   "outputs": [
    {
     "name": "stdout",
     "output_type": "stream",
     "text": [
      "Training MSE: 0.0012088890730316403\n",
      "Testing MSE: 0.0016852723067013156\n"
     ]
    },
    {
     "name": "stderr",
     "output_type": "stream",
     "text": [
      "c:\\Users\\lucia\\AppData\\Local\\Programs\\Python\\Python36\\lib\\site-packages\\sklearn\\linear_model\\_coordinate_descent.py:532: ConvergenceWarning: Objective did not converge. You might want to increase the number of iterations. Duality gap: 0.07847424768126432, tolerance: 2.8802223297133496e-05\n",
      "  positive)\n"
     ]
    },
    {
     "data": {
      "image/png": "[encoded data removed]",
      "text/plain": [
       "<Figure size 432x288 with 1 Axes>"
      ]
     },
     "metadata": {
      "needs_background": "light"
     },
     "output_type": "display_data"
    }
   ],
   "source": [
    "## MODEL BUILDING - after model tuning\n",
    "\n",
    "eln = ElasticNet(alpha = 0.2, l1_ratio = 0, max_iter = 100, random_state = 112)\n",
    "\n",
    "model_metrics(eln)"
   ]
  },
  {
   "attachments": {},
   "cell_type": "markdown",
   "metadata": {},
   "source": [
    "We can see that model performance - while poor both before and after model tuning - is much improved by model tuning. MSE is approximately halved, and more importantly, the model is now making more reasonable predictions rather than predicting all data to have a singular output value."
   ]
  },
  {
   "attachments": {},
   "cell_type": "markdown",
   "metadata": {},
   "source": [
    "### 2. Random forest"
   ]
  },
  {
   "attachments": {},
   "cell_type": "markdown",
   "metadata": {},
   "source": [
    "Advantages of random forest include that no feature scaling is required and that it independently performs feature selection as part of the algorithm. It does not assume linear data, which is also an advantage. However, it often overfits and is not easily interpretable."
   ]
  },
  {
   "cell_type": "code",
   "execution_count": 17,
   "metadata": {},
   "outputs": [],
   "source": [
    "from sklearn.ensemble import RandomForestRegressor"
   ]
  },
  {
   "cell_type": "code",
   "execution_count": 19,
   "metadata": {},
   "outputs": [
    {
     "name": "stderr",
     "output_type": "stream",
     "text": [
      "c:\\Users\\lucia\\AppData\\Local\\Programs\\Python\\Python36\\lib\\site-packages\\sklearn\\model_selection\\_search.py:880: DataConversionWarning: A column-vector y was passed when a 1d array was expected. Please change the shape of y to (n_samples,), for example using ravel().\n",
      "  self.best_estimator_.fit(X, y, **fit_params)\n"
     ]
    },
    {
     "data": {
      "text/plain": [
       "{'max_depth': 11, 'min_samples_split': 2, 'n_estimators': 10}"
      ]
     },
     "execution_count": 19,
     "metadata": {},
     "output_type": "execute_result"
    }
   ],
   "source": [
    "## MODEL TUNING\n",
    "\n",
    "CV = KFold(n_splits = 5, shuffle = True, random_state = 112)\n",
    "\n",
    "# Preliminary grid search (searches 10x6x5 = 300 sets of 'random' values)\n",
    "grid = {'n_estimators': list(np.arange(10, 211, 20)), # no. different trees (probably should not > no. instances)\n",
    "        'max_depth': list(np.arange(1, 32, 5)),      # no. levels in each tree (probably should not > no. features)\n",
    "        'min_samples_split': list(np.arange(2, 11, 2))} # how many individuals needed in a node before splitting\n",
    "\n",
    "prelim_grid_search = GridSearchCV(estimator = RandomForestRegressor(random_state = 112), param_grid = grid, scoring = 'neg_mean_squared_error', cv = CV, n_jobs = -1)\n",
    "prelim_grid_search.fit(X_train, y_train)\n",
    "\n",
    "prelim_grid_search.best_params_\n",
    "\n",
    "# NOTE: n_estimators = min value given --> this model restriction could possibly indicate the high overfitting present in RF and is trying to compensate for it"
   ]
  },
  {
   "cell_type": "code",
   "execution_count": 23,
   "metadata": {},
   "outputs": [
    {
     "name": "stderr",
     "output_type": "stream",
     "text": [
      "c:\\Users\\lucia\\AppData\\Local\\Programs\\Python\\Python36\\lib\\site-packages\\ipykernel_launcher.py:5: DataConversionWarning: A column-vector y was passed when a 1d array was expected. Please change the shape of y to (n_samples,), for example using ravel().\n",
      "  \"\"\"\n",
      "c:\\Users\\lucia\\AppData\\Local\\Programs\\Python\\Python36\\lib\\site-packages\\ipykernel_launcher.py:2: DataConversionWarning: A column-vector y was passed when a 1d array was expected. Please change the shape of y to (n_samples,), for example using ravel().\n",
      "  \n"
     ]
    },
    {
     "name": "stdout",
     "output_type": "stream",
     "text": [
      "Training MSE: 0.00018396239026970848\n",
      "Testing MSE: 0.0015143862677991988\n"
     ]
    },
    {
     "data": {
      "image/png": "[encoded data removed]",
      "text/plain": [
       "<Figure size 432x288 with 1 Axes>"
      ]
     },
     "metadata": {
      "needs_background": "light"
     },
     "output_type": "display_data"
    }
   ],
   "source": [
    "## MODEL BUILDING - before model tuning\n",
    "\n",
    "rf = RandomForestRegressor(random_state = 112)\n",
    "\n",
    "rf.fit(X_train, y_train)\n",
    "\n",
    "model_metrics(rf)"
   ]
  },
  {
   "cell_type": "code",
   "execution_count": 31,
   "metadata": {},
   "outputs": [
    {
     "name": "stderr",
     "output_type": "stream",
     "text": [
      "c:\\Users\\lucia\\AppData\\Local\\Programs\\Python\\Python36\\lib\\site-packages\\ipykernel_launcher.py:5: DataConversionWarning: A column-vector y was passed when a 1d array was expected. Please change the shape of y to (n_samples,), for example using ravel().\n",
      "  \"\"\"\n",
      "c:\\Users\\lucia\\AppData\\Local\\Programs\\Python\\Python36\\lib\\site-packages\\ipykernel_launcher.py:2: DataConversionWarning: A column-vector y was passed when a 1d array was expected. Please change the shape of y to (n_samples,), for example using ravel().\n",
      "  \n"
     ]
    },
    {
     "name": "stdout",
     "output_type": "stream",
     "text": [
      "Training MSE: 0.0002313963746464324\n",
      "Testing MSE: 0.001547170622828515\n"
     ]
    },
    {
     "data": {
      "image/png": "[encoded data removed]",
      "text/plain": [
       "<Figure size 432x288 with 1 Axes>"
      ]
     },
     "metadata": {
      "needs_background": "light"
     },
     "output_type": "display_data"
    }
   ],
   "source": [
    "## MODEL BUILDING - after model tuning\n",
    "\n",
    "rf = RandomForestRegressor(max_depth = 11, min_samples_split = 2, n_estimators = 10, random_state = 112)\n",
    "\n",
    "rf.fit(X_train, y_train)\n",
    "\n",
    "model_metrics(rf)"
   ]
  },
  {
   "attachments": {},
   "cell_type": "markdown",
   "metadata": {},
   "source": [
    "Here, the model performance is slightly worse after model tuning (slightly higher MSE for both test and training), suggesting that the random forest model is already relatively robust and may not be able to be much improved for this dataset."
   ]
  },
  {
   "cell_type": "markdown",
   "metadata": {},
   "source": [
    "### 3. LightGBM"
   ]
  },
  {
   "attachments": {},
   "cell_type": "markdown",
   "metadata": {},
   "source": [
    "This model type is based on a decision tree framework, and is known for its high speed and accuracy. While RF builds  decision trees independently and then combines their predictions, GBTs actually build trees sequentially so that each new tree corrects the mistakes of the previous one; this tends to lead to higher accuracy for gradient boosting tree models compared to simple ensemble tree models. However, this also means lightGBM will be somewhat less interpretable."
   ]
  },
  {
   "cell_type": "code",
   "execution_count": 21,
   "metadata": {},
   "outputs": [],
   "source": [
    "from lightgbm import LGBMRegressor"
   ]
  },
  {
   "cell_type": "code",
   "execution_count": 28,
   "metadata": {},
   "outputs": [
    {
     "data": {
      "text/plain": [
       "{'max_depth': 5, 'n_estimators': 60, 'reg_alpha': 0.0}"
      ]
     },
     "execution_count": 28,
     "metadata": {},
     "output_type": "execute_result"
    }
   ],
   "source": [
    "## MODEL TUNING\n",
    "\n",
    "CV = KFold(n_splits = 5, shuffle = True, random_state = 112)\n",
    "\n",
    "# Preliminary grid search (searches 4x6x5x5 = 600 sets of 'random' values)\n",
    "grid = {'n_estimators': list(np.arange(10, 211, 50)),\n",
    "        'max_depth': list(np.arange(5, 36, 5)),\n",
    "        'reg_alpha': list(np.arange(0, 1.1, 0.2)),\n",
    "        'reg_alpha': list(np.arange(0, 1.1, 0.2))}\n",
    "\n",
    "prelim_grid_search = GridSearchCV(estimator = LGBMRegressor(random_state = 112), param_grid = grid, scoring = 'neg_mean_squared_error', cv = CV, n_jobs = -1)\n",
    "prelim_grid_search.fit(X_train, y_train)\n",
    "\n",
    "prelim_grid_search.best_params_"
   ]
  },
  {
   "cell_type": "code",
   "execution_count": 25,
   "metadata": {},
   "outputs": [
    {
     "name": "stdout",
     "output_type": "stream",
     "text": [
      "Training MSE: 0.00018903878800492893\n",
      "Testing MSE: 0.0014250384146453\n"
     ]
    },
    {
     "data": {
      "image/png": "[encoded data removed]",
      "text/plain": [
       "<Figure size 432x288 with 1 Axes>"
      ]
     },
     "metadata": {
      "needs_background": "light"
     },
     "output_type": "display_data"
    }
   ],
   "source": [
    "## MODEL BUILDING - before model tuning\n",
    "\n",
    "lgbm = LGBMRegressor(random_state = 112)\n",
    "\n",
    "lgbm.fit(X_train, y_train)\n",
    "\n",
    "model_metrics(lgbm)"
   ]
  },
  {
   "cell_type": "code",
   "execution_count": 27,
   "metadata": {},
   "outputs": [
    {
     "name": "stdout",
     "output_type": "stream",
     "text": [
      "Training MSE: 0.0001689969809259506\n",
      "Testing MSE: 0.0014056610445454083\n"
     ]
    },
    {
     "data": {
      "image/png": "[encoded data removed]",
      "text/plain": [
       "<Figure size 432x288 with 1 Axes>"
      ]
     },
     "metadata": {
      "needs_background": "light"
     },
     "output_type": "display_data"
    }
   ],
   "source": [
    "## MODEL BUILDING - after model tuning\n",
    "\n",
    "lgbm = LGBMRegressor(max_depth = 5, n_estimators = 110, reg_alpha = 0, random_state = 112)\n",
    "\n",
    "lgbm.fit(X_train, y_train)\n",
    "\n",
    "model_metrics(lgbm)"
   ]
  },
  {
   "attachments": {},
   "cell_type": "markdown",
   "metadata": {},
   "source": [
    "For this model, we can see that model tuning improved model performance very slightly (very slight decrease in MSE for both train and test data)."
   ]
  },
  {
   "attachments": {},
   "cell_type": "markdown",
   "metadata": {},
   "source": [
    "When analyzing both MSE results and the scatter plots themselves, we can conclude that LightGBM indeed provides the best model for this dataset. This was hypothesized since LightGBM should be the most complex model (and our data is likely not simple linear), as well as due to the aforementioned pros and cons."
   ]
  }
 ],
 "metadata": {
  "kernelspec": {
   "display_name": "Python 3",
   "language": "python",
   "name": "python3"
  },
  "language_info": {
   "codemirror_mode": {
    "name": "ipython",
    "version": 3
   },
   "file_extension": ".py",
   "mimetype": "text/x-python",
   "name": "python",
   "nbconvert_exporter": "python",
   "pygments_lexer": "ipython3",
   "version": "3.6.8"
  },
  "orig_nbformat": 4,
  "vscode": {
   "interpreter": {
    "hash": "585ed0e8108ebcecd21e07658c21fd9928eaa605155083b757926a21b9422742"
   }
  }
 },
 "nbformat": 4,
 "nbformat_minor": 2
}
