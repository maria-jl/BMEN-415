{
 "cells": [
  {
   "cell_type": "code",
   "execution_count": 1,
   "metadata": {},
   "outputs": [],
   "source": [
    "import numpy as np\n",
    "import pandas as pd\n",
    "import matplotlib.pyplot as plt\n",
    "import seaborn as sns\n",
    "import sklearn\n",
    "import mlxtend\n",
    "import xgboost\n",
    "\n",
    "from sklearn.metrics import confusion_matrix\n",
    "from sklearn.metrics import accuracy_score\n",
    "\n",
    "from sklearn.model_selection import StratifiedKFold\n",
    "from sklearn.model_selection import GridSearchCV\n",
    "\n",
    "X_test = pd.read_csv(r'C:\\Users\\lucia\\OneDrive - University of Calgary\\University\\Year 3\\Semester 2\\Bmen 415\\Coursework\\Course Project\\_FINAL DATASETS\\classification_Xtest.csv')\n",
    "X_train = pd.read_csv(r'C:\\Users\\lucia\\OneDrive - University of Calgary\\University\\Year 3\\Semester 2\\Bmen 415\\Coursework\\Course Project\\_FINAL DATASETS\\classification_Xtrain.csv')\n",
    "y_test = pd.read_csv(r'C:\\Users\\lucia\\OneDrive - University of Calgary\\University\\Year 3\\Semester 2\\Bmen 415\\Coursework\\Course Project\\_FINAL DATASETS\\classification_ytest.csv')\n",
    "y_train = pd.read_csv(r'C:\\Users\\lucia\\OneDrive - University of Calgary\\University\\Year 3\\Semester 2\\Bmen 415\\Coursework\\Course Project\\_FINAL DATASETS\\classification_ytrain.csv')"
   ]
  },
  {
   "cell_type": "code",
   "execution_count": 2,
   "metadata": {},
   "outputs": [],
   "source": [
    "def model_metrics(model):\n",
    "    model.fit(X_train, y_train)\n",
    "\n",
    "    y_train_pred = model.predict(X_train)\n",
    "    y_test_pred = model.predict(X_test)\n",
    "\n",
    "    print('Training accuracy:', accuracy_score(y_train, y_train_pred))\n",
    "    print('Testing accuracy:', accuracy_score(y_test, y_test_pred))\n",
    "\n",
    "    confusion = confusion_matrix(y_test, y_test_pred)\n",
    "    sns.heatmap(confusion, square = True, annot = True, cbar = False, cmap = 'icefire', \n",
    "                xticklabels = ['benign', 'malignant'], yticklabels = ['benign', 'malignant'])\n",
    "\n",
    "    plt.xlabel('predicted value')\n",
    "    plt.ylabel('true value')"
   ]
  },
  {
   "attachments": {},
   "cell_type": "markdown",
   "metadata": {},
   "source": [
    "NOTES ON MODEL TUNING and PROCESSING\n",
    "\n",
    "To (hopefully) improve model performance and differentiate some of these models from identical models done by others in our group, I first tried to perform feature selection using lasso regression or a 'naive' method (only using means, ste, or largest for each metric) BUT, unexpectedly, all methods of FS severely decreased model performance. This is unexpected since, according to one source, \"classical model selection methods such as penalized logistic regression or random forest [as well as, likely, SVM] become unstable in the presence of high feature correlations.\"\n",
    "\n",
    "Instead, to differentiate these models, I will peform model tuning for each dataset and evaluate performance before and after.\n",
    "\n",
    "NOTE: Model tuning will optimize area under the Reciever-Operating Curve, not accuracy, because there is a slight class imbalancein this dataset. Model performance will be reported using accuracy but also a confusion matrix to account for any deviations in class predictions between the major and minor class.\n",
    "\n",
    "NOTE 2: We chose NOT to perform feature selection or scaling/centering when preparing X_train because while this may improve performance for some models, it may decrease it for others. These methods will be reserved for individual model building, if desired."
   ]
  },
  {
   "attachments": {},
   "cell_type": "markdown",
   "metadata": {},
   "source": [
    "### 1. SVM"
   ]
  },
  {
   "attachments": {},
   "cell_type": "markdown",
   "metadata": {},
   "source": [
    "Support vector machines are effective in high dimensional spaces, but they require relatively clear class seperation. As well, a linear SVM is used here, which may not be suitable for complex data."
   ]
  },
  {
   "cell_type": "code",
   "execution_count": 4,
   "metadata": {},
   "outputs": [],
   "source": [
    "from sklearn.svm import LinearSVC"
   ]
  },
  {
   "cell_type": "code",
   "execution_count": 14,
   "metadata": {},
   "outputs": [
    {
     "name": "stderr",
     "output_type": "stream",
     "text": [
      "c:\\Users\\lucia\\AppData\\Local\\Programs\\Python\\Python36\\lib\\site-packages\\sklearn\\model_selection\\_search.py:925: UserWarning: One or more of the test scores are non-finite: [       nan 0.95263355        nan 0.96281398        nan 0.9727297\n",
      "        nan 0.97339744        nan 0.97243649        nan 0.97684354\n",
      "        nan 0.97339091        nan 0.97575677        nan 0.97551638\n",
      "        nan 0.9703306         nan 0.97438568        nan 0.97429665\n",
      "        nan 0.97156339        nan 0.98111645        nan 0.97728811\n",
      "        nan 0.97478632        nan 0.98024395        nan 0.98157942\n",
      "        nan 0.97997685        nan 0.9795406         nan 0.95263355\n",
      "        nan 0.96286978        nan 0.9662221         nan 0.9721688\n",
      "        nan 0.96815408        nan 0.97380935        nan 0.97550748\n",
      "        nan 0.96881232        nan 0.9767005         nan 0.9701834\n",
      "        nan 0.9792557         nan 0.97412987        nan 0.97450142\n",
      "        nan 0.97880164        nan 0.97555199        nan 0.97755579\n",
      "        nan 0.97977208        nan 0.97942486        nan 0.97530271\n",
      "        nan 0.97905093        nan 0.95263355        nan 0.96286978\n",
      "        nan 0.96671178        nan 0.9721688         nan 0.96575024\n",
      "        nan 0.97380935        nan 0.97550748        nan 0.96881232\n",
      "        nan 0.9767005         nan 0.97163462        nan 0.97809829\n",
      "        nan 0.97694088        nan 0.97219551        nan 0.97903312\n",
      "        nan 0.97530271        nan 0.97861467        nan 0.97832087\n",
      "        nan 0.98012821        nan 0.97686075        nan 0.98116987\n",
      "        nan 0.95263355        nan 0.96286978        nan 0.96671178\n",
      "        nan 0.9721688         nan 0.96575024        nan 0.97380935\n",
      "        nan 0.975276          nan 0.96857194        nan 0.9767005\n",
      "        nan 0.9718661         nan 0.97740385        nan 0.97694088\n",
      "        nan 0.9735844         nan 0.9792646         nan 0.977849\n",
      "        nan 0.98000356        nan 0.98158832        nan 0.97446581\n",
      "        nan 0.97905093        nan 0.97972756]\n",
      "  category=UserWarning\n",
      "c:\\Users\\lucia\\AppData\\Local\\Programs\\Python\\Python36\\lib\\site-packages\\sklearn\\utils\\validation.py:63: DataConversionWarning: A column-vector y was passed when a 1d array was expected. Please change the shape of y to (n_samples, ), for example using ravel().\n",
      "  return f(*args, **kwargs)\n",
      "c:\\Users\\lucia\\AppData\\Local\\Programs\\Python\\Python36\\lib\\site-packages\\sklearn\\svm\\_base.py:986: ConvergenceWarning: Liblinear failed to converge, increase the number of iterations.\n",
      "  \"the number of iterations.\", ConvergenceWarning)\n"
     ]
    },
    {
     "data": {
      "text/plain": [
       "{'C': 100, 'max_iter': 8100, 'penalty': 'l2'}"
      ]
     },
     "execution_count": 14,
     "metadata": {},
     "output_type": "execute_result"
    }
   ],
   "source": [
    "## MODEL TUNING\n",
    "\n",
    "CV = StratifiedKFold(n_splits = 10, shuffle = True, random_state = 112)\n",
    "# Preliminary grid search (searches 2x19x4 = 152 sets of 'random' values)\n",
    "\n",
    "grid = {'penalty': ['l1', 'l2'],\n",
    "        'max_iter': list(np.arange(100, 10011, 500)),\n",
    "        'C': [0.1, 1, 10, 100]}\n",
    "\n",
    "prelim_grid_search = GridSearchCV(estimator = LinearSVC(random_state = 112), param_grid = grid, scoring = 'roc_auc', cv = CV, n_jobs = -1)\n",
    "prelim_grid_search.fit(X_train, y_train)\n",
    "\n",
    "prelim_grid_search.best_params_"
   ]
  },
  {
   "attachments": {},
   "cell_type": "markdown",
   "metadata": {},
   "source": [
    "NOTE: Many of these models give the error \"DataConversionWarning: A column-vector y was passed when a 1d array was expected\". However, the model still seems to be working with this data so it seems that it automatically converted the data to the correct format. In future refinements of this project, the data format will be changed as requested to make sure of this.\n",
    "\n",
    "The convergence warning also indicates that 100 iterations is too low, so the range for max iterations could be increased to possibly 500 or so to get rid of this error."
   ]
  },
  {
   "cell_type": "code",
   "execution_count": 7,
   "metadata": {},
   "outputs": [
    {
     "name": "stderr",
     "output_type": "stream",
     "text": [
      "c:\\Users\\lucia\\AppData\\Local\\Programs\\Python\\Python36\\lib\\site-packages\\sklearn\\utils\\validation.py:63: DataConversionWarning: A column-vector y was passed when a 1d array was expected. Please change the shape of y to (n_samples, ), for example using ravel().\n",
      "  return f(*args, **kwargs)\n",
      "c:\\Users\\lucia\\AppData\\Local\\Programs\\Python\\Python36\\lib\\site-packages\\sklearn\\svm\\_base.py:986: ConvergenceWarning: Liblinear failed to converge, increase the number of iterations.\n",
      "  \"the number of iterations.\", ConvergenceWarning)\n"
     ]
    },
    {
     "name": "stdout",
     "output_type": "stream",
     "text": [
      "Training accuracy: 0.9272300469483568\n",
      "Testing accuracy: 0.916083916083916\n"
     ]
    },
    {
     "data": {
      "image/png": "[encoded data removed]",
      "text/plain": [
       "<Figure size 432x288 with 1 Axes>"
      ]
     },
     "metadata": {
      "needs_background": "light"
     },
     "output_type": "display_data"
    }
   ],
   "source": [
    "## MODEL BUILDING - before model tuning\n",
    "\n",
    "svm = LinearSVC(random_state = 112)\n",
    "\n",
    "model_metrics(svm)"
   ]
  },
  {
   "cell_type": "code",
   "execution_count": 15,
   "metadata": {},
   "outputs": [
    {
     "name": "stderr",
     "output_type": "stream",
     "text": [
      "c:\\Users\\lucia\\AppData\\Local\\Programs\\Python\\Python36\\lib\\site-packages\\sklearn\\utils\\validation.py:63: DataConversionWarning: A column-vector y was passed when a 1d array was expected. Please change the shape of y to (n_samples, ), for example using ravel().\n",
      "  return f(*args, **kwargs)\n"
     ]
    },
    {
     "name": "stdout",
     "output_type": "stream",
     "text": [
      "Training accuracy: 0.9154929577464789\n",
      "Testing accuracy: 0.8951048951048951\n"
     ]
    },
    {
     "name": "stderr",
     "output_type": "stream",
     "text": [
      "c:\\Users\\lucia\\AppData\\Local\\Programs\\Python\\Python36\\lib\\site-packages\\sklearn\\svm\\_base.py:986: ConvergenceWarning: Liblinear failed to converge, increase the number of iterations.\n",
      "  \"the number of iterations.\", ConvergenceWarning)\n"
     ]
    },
    {
     "data": {
      "image/png": "[encoded data removed]",
      "text/plain": [
       "<Figure size 432x288 with 1 Axes>"
      ]
     },
     "metadata": {
      "needs_background": "light"
     },
     "output_type": "display_data"
    }
   ],
   "source": [
    "## MODEL BUILDING - after model tuning\n",
    "\n",
    "svm = LinearSVC(C = 100, max_iter = 8100, penalty = 'l2', random_state = 112)\n",
    "\n",
    "model_metrics(svm)"
   ]
  },
  {
   "attachments": {},
   "cell_type": "markdown",
   "metadata": {},
   "source": [
    "As can be seen here, model tuning does little to improve performance of the linear SVC (it actually decreases testing accuracy, and leads to a slightly worse model which can be seen from the confusion matrix). As expected, a linear SVM may not be sufficient to provide accurate machine learning classification of this dataset.\n",
    "\n",
    "Another note of interest is that false negatives are much more prevalent than false positives - i.e. this model overpredicts the majority (benign) class. Class balancing techniques may be useful here to improve model performance."
   ]
  },
  {
   "attachments": {},
   "cell_type": "markdown",
   "metadata": {},
   "source": [
    "### 2. Random forest"
   ]
  },
  {
   "attachments": {},
   "cell_type": "markdown",
   "metadata": {},
   "source": [
    "This model type tends to be accurate and robust for many applications, with in-built 'feature selection' (due to the selection between features for nodes) and the ability to capture relatively complex relationships between input features and the target. However, they tend to be uninterpretable and are prone to overfitting."
   ]
  },
  {
   "cell_type": "code",
   "execution_count": 16,
   "metadata": {},
   "outputs": [],
   "source": [
    "from sklearn.ensemble import RandomForestClassifier"
   ]
  },
  {
   "cell_type": "code",
   "execution_count": 30,
   "metadata": {},
   "outputs": [
    {
     "name": "stderr",
     "output_type": "stream",
     "text": [
      "c:\\Users\\lucia\\AppData\\Local\\Programs\\Python\\Python36\\lib\\site-packages\\sklearn\\model_selection\\_search.py:880: DataConversionWarning: A column-vector y was passed when a 1d array was expected. Please change the shape of y to (n_samples,), for example using ravel().\n",
      "  self.best_estimator_.fit(X, y, **fit_params)\n"
     ]
    },
    {
     "data": {
      "text/plain": [
       "{'max_depth': 10,\n",
       " 'max_features': 'sqrt',\n",
       " 'min_samples_split': 2,\n",
       " 'n_estimators': 160}"
      ]
     },
     "execution_count": 30,
     "metadata": {},
     "output_type": "execute_result"
    }
   ],
   "source": [
    "## MODEL TUNING\n",
    "\n",
    "CV = StratifiedKFold(n_splits = 5, shuffle = True, random_state = 112)\n",
    "# Preliminary grid search (searches 9x6x5x3 = 810 sets of 'random' values)\n",
    "\n",
    "grid = {'n_estimators': list(np.arange(10, 500, 50)),\n",
    "        'max_depth': list(np.arange(5, 31, 5)),\n",
    "        'min_samples_split': list(np.arange(2, 11, 2)),\n",
    "        'max_features': ['sqrt', 'log2', None]}\n",
    "\n",
    "prelim_grid_search = GridSearchCV(estimator = RandomForestClassifier(random_state = 112), param_grid = grid, scoring = 'roc_auc', cv = CV, n_jobs = -1)\n",
    "prelim_grid_search.fit(X_train, y_train)\n",
    "\n",
    "prelim_grid_search.best_params_"
   ]
  },
  {
   "cell_type": "code",
   "execution_count": 28,
   "metadata": {},
   "outputs": [
    {
     "name": "stderr",
     "output_type": "stream",
     "text": [
      "c:\\Users\\lucia\\AppData\\Local\\Programs\\Python\\Python36\\lib\\site-packages\\ipykernel_launcher.py:5: DataConversionWarning: A column-vector y was passed when a 1d array was expected. Please change the shape of y to (n_samples,), for example using ravel().\n",
      "  \"\"\"\n",
      "c:\\Users\\lucia\\AppData\\Local\\Programs\\Python\\Python36\\lib\\site-packages\\ipykernel_launcher.py:2: DataConversionWarning: A column-vector y was passed when a 1d array was expected. Please change the shape of y to (n_samples,), for example using ravel().\n",
      "  \n"
     ]
    },
    {
     "name": "stdout",
     "output_type": "stream",
     "text": [
      "Training accuracy: 1.0\n",
      "Testing accuracy: 0.972027972027972\n"
     ]
    },
    {
     "data": {
      "image/png": "[encoded data removed]",
      "text/plain": [
       "<Figure size 432x288 with 1 Axes>"
      ]
     },
     "metadata": {
      "needs_background": "light"
     },
     "output_type": "display_data"
    }
   ],
   "source": [
    "## MODEL BUILDING - before model tuning\n",
    "\n",
    "rf = RandomForestClassifier(random_state = 112)\n",
    "\n",
    "rf.fit(X_train, y_train)\n",
    "\n",
    "model_metrics(rf)"
   ]
  },
  {
   "cell_type": "code",
   "execution_count": 29,
   "metadata": {},
   "outputs": [
    {
     "name": "stderr",
     "output_type": "stream",
     "text": [
      "c:\\Users\\lucia\\AppData\\Local\\Programs\\Python\\Python36\\lib\\site-packages\\ipykernel_launcher.py:5: DataConversionWarning: A column-vector y was passed when a 1d array was expected. Please change the shape of y to (n_samples,), for example using ravel().\n",
      "  \"\"\"\n",
      "c:\\Users\\lucia\\AppData\\Local\\Programs\\Python\\Python36\\lib\\site-packages\\ipykernel_launcher.py:2: DataConversionWarning: A column-vector y was passed when a 1d array was expected. Please change the shape of y to (n_samples,), for example using ravel().\n",
      "  \n"
     ]
    },
    {
     "name": "stdout",
     "output_type": "stream",
     "text": [
      "Training accuracy: 1.0\n",
      "Testing accuracy: 0.972027972027972\n"
     ]
    },
    {
     "data": {
      "image/png": "[encoded data removed]",
      "text/plain": [
       "<Figure size 432x288 with 1 Axes>"
      ]
     },
     "metadata": {
      "needs_background": "light"
     },
     "output_type": "display_data"
    }
   ],
   "source": [
    "## MODEL BUILDING - after model tuning\n",
    "\n",
    "rf = RandomForestClassifier(max_features = 'sqrt', min_samples_split = 2, n_estimators = 160, random_state = 112)\n",
    "\n",
    "rf.fit(X_train, y_train)\n",
    "\n",
    "model_metrics(rf)"
   ]
  },
  {
   "attachments": {},
   "cell_type": "markdown",
   "metadata": {},
   "source": [
    "As can be seen here, random forest models appear to be quite good models with very high test accuracy and reasonable confusion matrices. Once again, however, the majority class is overpredicted."
   ]
  },
  {
   "cell_type": "markdown",
   "metadata": {},
   "source": [
    "### 3. XGBoost"
   ]
  },
  {
   "attachments": {},
   "cell_type": "markdown",
   "metadata": {},
   "source": [
    "XGBoost is a gradient-boosting type of tree ensemble method, which means that trees are trained to sequentially and 'learn' from the mistakes/errors of the previous trees. Gradient boosting algorithms are generally associated with both faster computational speeds and higher accuracy,"
   ]
  },
  {
   "cell_type": "code",
   "execution_count": 11,
   "metadata": {},
   "outputs": [],
   "source": [
    "from xgboost import XGBClassifier"
   ]
  },
  {
   "cell_type": "code",
   "execution_count": 23,
   "metadata": {},
   "outputs": [
    {
     "name": "stderr",
     "output_type": "stream",
     "text": [
      "c:\\Users\\lucia\\AppData\\Local\\Programs\\Python\\Python36\\lib\\site-packages\\xgboost\\sklearn.py:1224: UserWarning: The use of label encoder in XGBClassifier is deprecated and will be removed in a future release. To remove this warning, do the following: 1) Pass option use_label_encoder=False when constructing XGBClassifier object; and 2) Encode your labels (y) as integers starting with 0, i.e. 0, 1, 2, ..., [num_class - 1].\n",
      "  warnings.warn(label_encoder_deprecation_msg, UserWarning)\n",
      "c:\\Users\\lucia\\AppData\\Local\\Programs\\Python\\Python36\\lib\\site-packages\\sklearn\\utils\\validation.py:63: DataConversionWarning: A column-vector y was passed when a 1d array was expected. Please change the shape of y to (n_samples, ), for example using ravel().\n",
      "  return f(*args, **kwargs)\n"
     ]
    },
    {
     "data": {
      "text/plain": [
       "{'booster': 'gbtree',\n",
       " 'max_depth': 15,\n",
       " 'n_estimators': 60,\n",
       " 'objective': 'reg:logistic'}"
      ]
     },
     "execution_count": 23,
     "metadata": {},
     "output_type": "execute_result"
    }
   ],
   "source": [
    "## MODEL TUNING\n",
    "\n",
    "CV = StratifiedKFold(n_splits = 5, shuffle = True, random_state = 112)\n",
    "# Preliminary grid search (searches 2x5x10x2 sets of 'random' values)\n",
    "\n",
    "grid = {'booster': ['gbtree', 'dart'],\n",
    "        'max_depth': list(np.arange(5, 56, 10)),\n",
    "        'n_estimators': list(np.arange(10, 511, 50)),\n",
    "        'objective': ['reg:logistic', 'binary:logistic']}\n",
    "\n",
    "prelim_grid_search = GridSearchCV(estimator = XGBClassifier(random_state = 112), param_grid = grid, scoring = 'roc_auc', cv = CV, n_jobs = -1)\n",
    "prelim_grid_search.fit(X_train, y_train)\n",
    "\n",
    "prelim_grid_search.best_params_"
   ]
  },
  {
   "cell_type": "code",
   "execution_count": 12,
   "metadata": {},
   "outputs": [
    {
     "name": "stderr",
     "output_type": "stream",
     "text": [
      "c:\\Users\\lucia\\AppData\\Local\\Programs\\Python\\Python36\\lib\\site-packages\\xgboost\\sklearn.py:1224: UserWarning: The use of label encoder in XGBClassifier is deprecated and will be removed in a future release. To remove this warning, do the following: 1) Pass option use_label_encoder=False when constructing XGBClassifier object; and 2) Encode your labels (y) as integers starting with 0, i.e. 0, 1, 2, ..., [num_class - 1].\n",
      "  warnings.warn(label_encoder_deprecation_msg, UserWarning)\n",
      "c:\\Users\\lucia\\AppData\\Local\\Programs\\Python\\Python36\\lib\\site-packages\\sklearn\\utils\\validation.py:63: DataConversionWarning: A column-vector y was passed when a 1d array was expected. Please change the shape of y to (n_samples, ), for example using ravel().\n",
      "  return f(*args, **kwargs)\n"
     ]
    },
    {
     "name": "stdout",
     "output_type": "stream",
     "text": [
      "[19:47:37] WARNING: C:/Users/Administrator/workspace/xgboost-win64_release_1.5.1/src/learner.cc:1115: Starting in XGBoost 1.3.0, the default evaluation metric used with the objective 'binary:logistic' was changed from 'error' to 'logloss'. Explicitly set eval_metric if you'd like to restore the old behavior.\n",
      "[19:47:37] WARNING: C:/Users/Administrator/workspace/xgboost-win64_release_1.5.1/src/learner.cc:1115: Starting in XGBoost 1.3.0, the default evaluation metric used with the objective 'binary:logistic' was changed from 'error' to 'logloss'. Explicitly set eval_metric if you'd like to restore the old behavior.\n",
      "Training accuracy: 1.0\n",
      "Testing accuracy: 0.972027972027972\n"
     ]
    },
    {
     "data": {
      "image/png": "[encoded data removed]",
      "text/plain": [
       "<Figure size 432x288 with 1 Axes>"
      ]
     },
     "metadata": {
      "needs_background": "light"
     },
     "output_type": "display_data"
    }
   ],
   "source": [
    "## MODEL BUILDING - before model tuning\n",
    "\n",
    "xgb = XGBClassifier(random_state = 112)\n",
    "\n",
    "xgb.fit(X_train, y_train)\n",
    "\n",
    "model_metrics(xgb)"
   ]
  },
  {
   "cell_type": "code",
   "execution_count": 13,
   "metadata": {},
   "outputs": [
    {
     "name": "stderr",
     "output_type": "stream",
     "text": [
      "c:\\Users\\lucia\\AppData\\Local\\Programs\\Python\\Python36\\lib\\site-packages\\xgboost\\sklearn.py:1224: UserWarning: The use of label encoder in XGBClassifier is deprecated and will be removed in a future release. To remove this warning, do the following: 1) Pass option use_label_encoder=False when constructing XGBClassifier object; and 2) Encode your labels (y) as integers starting with 0, i.e. 0, 1, 2, ..., [num_class - 1].\n",
      "  warnings.warn(label_encoder_deprecation_msg, UserWarning)\n",
      "c:\\Users\\lucia\\AppData\\Local\\Programs\\Python\\Python36\\lib\\site-packages\\sklearn\\utils\\validation.py:63: DataConversionWarning: A column-vector y was passed when a 1d array was expected. Please change the shape of y to (n_samples, ), for example using ravel().\n",
      "  return f(*args, **kwargs)\n"
     ]
    },
    {
     "name": "stdout",
     "output_type": "stream",
     "text": [
      "Training accuracy: 1.0\n",
      "Testing accuracy: 0.972027972027972\n"
     ]
    },
    {
     "data": {
      "image/png": "[encoded data removed]",
      "text/plain": [
       "<Figure size 432x288 with 1 Axes>"
      ]
     },
     "metadata": {
      "needs_background": "light"
     },
     "output_type": "display_data"
    }
   ],
   "source": [
    "## MODEL BUILDING - before model tuning\n",
    "\n",
    "xgb = XGBClassifier(booster = 'gbtree', max_depth = 15, n_estimators = 60, objective = 'reg:logistic', random_state = 112)\n",
    "\n",
    "xgb.fit(X_train, y_train)\n",
    "\n",
    "model_metrics(xgb)"
   ]
  },
  {
   "attachments": {},
   "cell_type": "markdown",
   "metadata": {},
   "source": [
    "Like the random forest model, the XGBoost model has little improvement after model tuning. Both models have identical predictions and accuracy."
   ]
  },
  {
   "attachments": {},
   "cell_type": "markdown",
   "metadata": {},
   "source": [
    "Overall, the random forest and XGBoost models both show promising performance on the breast cancer dataset. However, all models overpredict the majority class and thus some method of class balancing (e.g. oversampling the minority, or malignant, class via SMOTE) may be very beneficial to investigate.\n",
    "\n",
    "Additionally, both random forest and XGBoost models show perfect accuracy on the test dataset but somewhat lower accuracy on the train dataset, which indicates overfitting. It may be beneficial to investigate increasing model complexity to address this issue."
   ]
  }
 ],
 "metadata": {
  "kernelspec": {
   "display_name": "Python 3",
   "language": "python",
   "name": "python3"
  },
  "language_info": {
   "codemirror_mode": {
    "name": "ipython",
    "version": 3
   },
   "file_extension": ".py",
   "mimetype": "text/x-python",
   "name": "python",
   "nbconvert_exporter": "python",
   "pygments_lexer": "ipython3",
   "version": "3.6.8"
  },
  "orig_nbformat": 4,
  "vscode": {
   "interpreter": {
    "hash": "585ed0e8108ebcecd21e07658c21fd9928eaa605155083b757926a21b9422742"
   }
  }
 },
 "nbformat": 4,
 "nbformat_minor": 2
}
