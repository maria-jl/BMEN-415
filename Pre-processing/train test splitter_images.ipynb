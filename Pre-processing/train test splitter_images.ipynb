{
 "cells": [
  {
   "cell_type": "code",
   "execution_count": 1,
   "metadata": {},
   "outputs": [],
   "source": [
    "import splitfolders"
   ]
  },
  {
   "cell_type": "code",
   "execution_count": 5,
   "metadata": {},
   "outputs": [],
   "source": [
    "splitfolders.ratio(r'C:\\Users\\lucia\\OneDrive - University of Calgary\\University\\Year 3\\Semester 2\\Bmen 415\\Coursework\\Course Project\\_FINAL DATASETS\\alzheimer mri preprocessed dataset', output = r'C:\\Users\\lucia\\OneDrive - University of Calgary\\University\\Year 3\\Semester 2\\Bmen 415\\Coursework\\Course Project\\_FINAL DATASETS\\alzheimer mri preprocessed dataset\\train_test_val split', seed = 112, ratio=(0.7, 0.1, 0.2)) "
   ]
  }
 ],
 "metadata": {
  "kernelspec": {
   "display_name": "Python 3",
   "language": "python",
   "name": "python3"
  },
  "language_info": {
   "codemirror_mode": {
    "name": "ipython",
    "version": 3
   },
   "file_extension": ".py",
   "mimetype": "text/x-python",
   "name": "python",
   "nbconvert_exporter": "python",
   "pygments_lexer": "ipython3",
   "version": "3.6.8"
  },
  "orig_nbformat": 4
 },
 "nbformat": 4,
 "nbformat_minor": 2
}
